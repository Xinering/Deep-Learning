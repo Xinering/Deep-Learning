{
 "cells": [
  {
   "cell_type": "markdown",
   "metadata": {},
   "source": [
    "# Unsupervised to Supervised Learning: Self Organising Map (SOM) with  Artifical Neutral Networks (ANN) \n",
    "## Objectives: \n",
    "Using Self-Organising Maps (SOM) and Artifical Neutral Networks (ANN) to: \n",
    "* Learn and train based on the matrix of features for features detection using an unsuperversied learning approach (SOM)\n",
    "* Visualise the analysis result from high dimensional dataset into low dimensional 2-D Mapping, called SOM. \n",
    "* Learn a dataset without supervision (a target vector). A SOM consists of a grid of nodes or units to which the input data are presented. Every node is connected to the input, and there is no connection between the nodes. \n",
    "* Preserve topology and keep the neighborhood relations in its mapping presentation \n",
    "* Apply stochastic gradient descent to minimise the lose function\n",
    "* Complete backpropagation to adjusts the weights \n",
    "* Complete k-cross validation\n",
    "\n",
    "## Steps: \n",
    "1) Visualise the dataset, analysis by pivoting features, categorical encoding and feature scaling\n",
    "\n",
    "2) Train the Self Organising Map for the dataset \n",
    "\n",
    "3) Visualise the results, overlap customers who have and have not defaulted on their credit cards\n",
    "\n",
    "4) Identify customer groups (clusters) which have a high risk of defaulting \n",
    "\n",
    "2) Initialise ANN\n",
    "    \n",
    "3) Add first layer with 24 input nodes, set activation function \n",
    "  \n",
    "5) Add output layer in the form of perceptron and a sigmoid function\n",
    "\n",
    "6) Apply stochastic gradient descent to achieve a set of optimal weights\n",
    "\n",
    "7) Evaluate the model, visualise the analysis results\n",
    "\n",
    "Scenario: To build a predictive model for a bank to rank customers who are likely to default on their credit card payments. Rank the highest risk defaulters at the top. \n",
    "\n",
    "### Dataset: \n",
    "\n",
    "Customers_Bank_Accounts: info on customers' bank accounts\n",
    "https://archive.ics.uci.edu/ml/datasets/default+of+credit+card+clients\n",
    "\n",
    "Matrix of Features: 30,000 x 25"
   ]
  },
  {
   "cell_type": "code",
   "execution_count": 1,
   "metadata": {
    "collapsed": true
   },
   "outputs": [],
   "source": [
    "# Importing the libraries\n",
    "import numpy as np\n",
    "import matplotlib.pyplot as plt\n",
    "import pandas as pd\n",
    "import seaborn as sns\n",
    "%matplotlib inline"
   ]
  },
  {
   "cell_type": "code",
   "execution_count": 2,
   "metadata": {
    "collapsed": true
   },
   "outputs": [],
   "source": [
    "# Importing the dataset\n",
    "df = pd.read_csv('credit_card.csv')"
   ]
  },
  {
   "cell_type": "code",
   "execution_count": 3,
   "metadata": {},
   "outputs": [
    {
     "data": {
      "text/html": [
       "<div>\n",
       "<style>\n",
       "    .dataframe thead tr:only-child th {\n",
       "        text-align: right;\n",
       "    }\n",
       "\n",
       "    .dataframe thead th {\n",
       "        text-align: left;\n",
       "    }\n",
       "\n",
       "    .dataframe tbody tr th {\n",
       "        vertical-align: top;\n",
       "    }\n",
       "</style>\n",
       "<table border=\"1\" class=\"dataframe\">\n",
       "  <thead>\n",
       "    <tr style=\"text-align: right;\">\n",
       "      <th></th>\n",
       "      <th>ID</th>\n",
       "      <th>LIMIT_BAL</th>\n",
       "      <th>SEX</th>\n",
       "      <th>EDUCATION</th>\n",
       "      <th>MARRIAGE</th>\n",
       "      <th>AGE</th>\n",
       "      <th>PAY_0</th>\n",
       "      <th>PAY_2</th>\n",
       "      <th>PAY_3</th>\n",
       "      <th>PAY_4</th>\n",
       "      <th>...</th>\n",
       "      <th>BILL_AMT4</th>\n",
       "      <th>BILL_AMT5</th>\n",
       "      <th>BILL_AMT6</th>\n",
       "      <th>PAY_AMT1</th>\n",
       "      <th>PAY_AMT2</th>\n",
       "      <th>PAY_AMT3</th>\n",
       "      <th>PAY_AMT4</th>\n",
       "      <th>PAY_AMT5</th>\n",
       "      <th>PAY_AMT6</th>\n",
       "      <th>defaulted</th>\n",
       "    </tr>\n",
       "  </thead>\n",
       "  <tbody>\n",
       "    <tr>\n",
       "      <th>0</th>\n",
       "      <td>1</td>\n",
       "      <td>20000</td>\n",
       "      <td>2</td>\n",
       "      <td>2</td>\n",
       "      <td>1</td>\n",
       "      <td>24</td>\n",
       "      <td>2</td>\n",
       "      <td>2</td>\n",
       "      <td>-1</td>\n",
       "      <td>-1</td>\n",
       "      <td>...</td>\n",
       "      <td>0</td>\n",
       "      <td>0</td>\n",
       "      <td>0</td>\n",
       "      <td>0</td>\n",
       "      <td>689</td>\n",
       "      <td>0</td>\n",
       "      <td>0</td>\n",
       "      <td>0</td>\n",
       "      <td>0</td>\n",
       "      <td>1</td>\n",
       "    </tr>\n",
       "    <tr>\n",
       "      <th>1</th>\n",
       "      <td>2</td>\n",
       "      <td>120000</td>\n",
       "      <td>2</td>\n",
       "      <td>2</td>\n",
       "      <td>2</td>\n",
       "      <td>26</td>\n",
       "      <td>-1</td>\n",
       "      <td>2</td>\n",
       "      <td>0</td>\n",
       "      <td>0</td>\n",
       "      <td>...</td>\n",
       "      <td>3272</td>\n",
       "      <td>3455</td>\n",
       "      <td>3261</td>\n",
       "      <td>0</td>\n",
       "      <td>1000</td>\n",
       "      <td>1000</td>\n",
       "      <td>1000</td>\n",
       "      <td>0</td>\n",
       "      <td>2000</td>\n",
       "      <td>1</td>\n",
       "    </tr>\n",
       "    <tr>\n",
       "      <th>2</th>\n",
       "      <td>3</td>\n",
       "      <td>90000</td>\n",
       "      <td>2</td>\n",
       "      <td>2</td>\n",
       "      <td>2</td>\n",
       "      <td>34</td>\n",
       "      <td>0</td>\n",
       "      <td>0</td>\n",
       "      <td>0</td>\n",
       "      <td>0</td>\n",
       "      <td>...</td>\n",
       "      <td>14331</td>\n",
       "      <td>14948</td>\n",
       "      <td>15549</td>\n",
       "      <td>1518</td>\n",
       "      <td>1500</td>\n",
       "      <td>1000</td>\n",
       "      <td>1000</td>\n",
       "      <td>1000</td>\n",
       "      <td>5000</td>\n",
       "      <td>0</td>\n",
       "    </tr>\n",
       "    <tr>\n",
       "      <th>3</th>\n",
       "      <td>4</td>\n",
       "      <td>50000</td>\n",
       "      <td>2</td>\n",
       "      <td>2</td>\n",
       "      <td>1</td>\n",
       "      <td>37</td>\n",
       "      <td>0</td>\n",
       "      <td>0</td>\n",
       "      <td>0</td>\n",
       "      <td>0</td>\n",
       "      <td>...</td>\n",
       "      <td>28314</td>\n",
       "      <td>28959</td>\n",
       "      <td>29547</td>\n",
       "      <td>2000</td>\n",
       "      <td>2019</td>\n",
       "      <td>1200</td>\n",
       "      <td>1100</td>\n",
       "      <td>1069</td>\n",
       "      <td>1000</td>\n",
       "      <td>0</td>\n",
       "    </tr>\n",
       "    <tr>\n",
       "      <th>4</th>\n",
       "      <td>5</td>\n",
       "      <td>50000</td>\n",
       "      <td>1</td>\n",
       "      <td>2</td>\n",
       "      <td>1</td>\n",
       "      <td>57</td>\n",
       "      <td>-1</td>\n",
       "      <td>0</td>\n",
       "      <td>-1</td>\n",
       "      <td>0</td>\n",
       "      <td>...</td>\n",
       "      <td>20940</td>\n",
       "      <td>19146</td>\n",
       "      <td>19131</td>\n",
       "      <td>2000</td>\n",
       "      <td>36681</td>\n",
       "      <td>10000</td>\n",
       "      <td>9000</td>\n",
       "      <td>689</td>\n",
       "      <td>679</td>\n",
       "      <td>0</td>\n",
       "    </tr>\n",
       "  </tbody>\n",
       "</table>\n",
       "<p>5 rows × 25 columns</p>\n",
       "</div>"
      ],
      "text/plain": [
       "   ID  LIMIT_BAL  SEX  EDUCATION  MARRIAGE  AGE  PAY_0  PAY_2  PAY_3  PAY_4  \\\n",
       "0   1      20000    2          2         1   24      2      2     -1     -1   \n",
       "1   2     120000    2          2         2   26     -1      2      0      0   \n",
       "2   3      90000    2          2         2   34      0      0      0      0   \n",
       "3   4      50000    2          2         1   37      0      0      0      0   \n",
       "4   5      50000    1          2         1   57     -1      0     -1      0   \n",
       "\n",
       "     ...      BILL_AMT4  BILL_AMT5  BILL_AMT6  PAY_AMT1  PAY_AMT2  PAY_AMT3  \\\n",
       "0    ...              0          0          0         0       689         0   \n",
       "1    ...           3272       3455       3261         0      1000      1000   \n",
       "2    ...          14331      14948      15549      1518      1500      1000   \n",
       "3    ...          28314      28959      29547      2000      2019      1200   \n",
       "4    ...          20940      19146      19131      2000     36681     10000   \n",
       "\n",
       "   PAY_AMT4  PAY_AMT5  PAY_AMT6  defaulted  \n",
       "0         0         0         0          1  \n",
       "1      1000         0      2000          1  \n",
       "2      1000      1000      5000          0  \n",
       "3      1100      1069      1000          0  \n",
       "4      9000       689       679          0  \n",
       "\n",
       "[5 rows x 25 columns]"
      ]
     },
     "execution_count": 3,
     "metadata": {},
     "output_type": "execute_result"
    }
   ],
   "source": [
    "#INSPECTION\n",
    "df.head() "
   ]
  },
  {
   "cell_type": "code",
   "execution_count": 4,
   "metadata": {},
   "outputs": [
    {
     "data": {
      "text/plain": [
       "array(['ID', 'LIMIT_BAL', 'SEX', 'EDUCATION', 'MARRIAGE', 'AGE', 'PAY_0',\n",
       "       'PAY_2', 'PAY_3', 'PAY_4', 'PAY_5', 'PAY_6', 'BILL_AMT1',\n",
       "       'BILL_AMT2', 'BILL_AMT3', 'BILL_AMT4', 'BILL_AMT5', 'BILL_AMT6',\n",
       "       'PAY_AMT1', 'PAY_AMT2', 'PAY_AMT3', 'PAY_AMT4', 'PAY_AMT5',\n",
       "       'PAY_AMT6', 'defaulted'], dtype=object)"
      ]
     },
     "execution_count": 4,
     "metadata": {},
     "output_type": "execute_result"
    }
   ],
   "source": [
    "df.columns.values"
   ]
  },
  {
   "cell_type": "markdown",
   "metadata": {},
   "source": [
    "## Check if there are any NAN in each column, and in what % \n",
    "* Rank the column with worst sparsity at the top \n",
    "* There is no misssing data in this dataset"
   ]
  },
  {
   "cell_type": "code",
   "execution_count": 5,
   "metadata": {
    "scrolled": true
   },
   "outputs": [
    {
     "data": {
      "text/html": [
       "<div>\n",
       "<style>\n",
       "    .dataframe thead tr:only-child th {\n",
       "        text-align: right;\n",
       "    }\n",
       "\n",
       "    .dataframe thead th {\n",
       "        text-align: left;\n",
       "    }\n",
       "\n",
       "    .dataframe tbody tr th {\n",
       "        vertical-align: top;\n",
       "    }\n",
       "</style>\n",
       "<table border=\"1\" class=\"dataframe\">\n",
       "  <thead>\n",
       "    <tr style=\"text-align: right;\">\n",
       "      <th></th>\n",
       "      <th>Missing Total</th>\n",
       "      <th>Sparsity %</th>\n",
       "    </tr>\n",
       "  </thead>\n",
       "  <tbody>\n",
       "    <tr>\n",
       "      <th>AGE</th>\n",
       "      <td>0</td>\n",
       "      <td>0.0</td>\n",
       "    </tr>\n",
       "    <tr>\n",
       "      <th>BILL_AMT1</th>\n",
       "      <td>0</td>\n",
       "      <td>0.0</td>\n",
       "    </tr>\n",
       "    <tr>\n",
       "      <th>BILL_AMT2</th>\n",
       "      <td>0</td>\n",
       "      <td>0.0</td>\n",
       "    </tr>\n",
       "    <tr>\n",
       "      <th>BILL_AMT3</th>\n",
       "      <td>0</td>\n",
       "      <td>0.0</td>\n",
       "    </tr>\n",
       "    <tr>\n",
       "      <th>BILL_AMT4</th>\n",
       "      <td>0</td>\n",
       "      <td>0.0</td>\n",
       "    </tr>\n",
       "  </tbody>\n",
       "</table>\n",
       "</div>"
      ],
      "text/plain": [
       "           Missing Total  Sparsity %\n",
       "AGE                    0         0.0\n",
       "BILL_AMT1              0         0.0\n",
       "BILL_AMT2              0         0.0\n",
       "BILL_AMT3              0         0.0\n",
       "BILL_AMT4              0         0.0"
      ]
     },
     "execution_count": 5,
     "metadata": {},
     "output_type": "execute_result"
    }
   ],
   "source": [
    "missing_data = df.isnull().sum().sort_values(ascending = False)\n",
    "sparsity = missing_data/missing_data.count()*100\n",
    "missing_data = pd.concat([missing_data, round(sparsity).sort_values(ascending = False)], \n",
    "                          axis=1, keys=['Missing Total', 'Sparsity %'])\n",
    "missing_data.head(5)"
   ]
  },
  {
   "cell_type": "markdown",
   "metadata": {},
   "source": [
    "## Check number of customers defaulted"
   ]
  },
  {
   "cell_type": "code",
   "execution_count": 6,
   "metadata": {
    "scrolled": false
   },
   "outputs": [
    {
     "name": "stdout",
     "output_type": "stream",
     "text": [
      "\n",
      " Number of customers defaulted: 6636 out of 30000\n"
     ]
    }
   ],
   "source": [
    "defaulted = df['defaulted'].value_counts()\n",
    "print('\\n Number of customers defaulted: {} out of {}'.format(defaulted[1], len(df)))"
   ]
  },
  {
   "cell_type": "markdown",
   "metadata": {},
   "source": [
    "## Initial analysis by pivoting features\n",
    "* Inspecting correlation between customers defaulted, by SEX, EDUCATION, AGE \n",
    "* SEX: (1) Male and (2) Female correlated similarly.  \n",
    "* EDUCATION: (3) High School educated customers and (2) University educated customers ranked highest "
   ]
  },
  {
   "cell_type": "code",
   "execution_count": 7,
   "metadata": {},
   "outputs": [
    {
     "data": {
      "text/html": [
       "<div>\n",
       "<style>\n",
       "    .dataframe thead tr:only-child th {\n",
       "        text-align: right;\n",
       "    }\n",
       "\n",
       "    .dataframe thead th {\n",
       "        text-align: left;\n",
       "    }\n",
       "\n",
       "    .dataframe tbody tr th {\n",
       "        vertical-align: top;\n",
       "    }\n",
       "</style>\n",
       "<table border=\"1\" class=\"dataframe\">\n",
       "  <thead>\n",
       "    <tr style=\"text-align: right;\">\n",
       "      <th></th>\n",
       "      <th>SEX</th>\n",
       "      <th>defaulted</th>\n",
       "    </tr>\n",
       "  </thead>\n",
       "  <tbody>\n",
       "    <tr>\n",
       "      <th>0</th>\n",
       "      <td>1</td>\n",
       "      <td>0.241672</td>\n",
       "    </tr>\n",
       "    <tr>\n",
       "      <th>1</th>\n",
       "      <td>2</td>\n",
       "      <td>0.207763</td>\n",
       "    </tr>\n",
       "  </tbody>\n",
       "</table>\n",
       "</div>"
      ],
      "text/plain": [
       "   SEX  defaulted\n",
       "0    1   0.241672\n",
       "1    2   0.207763"
      ]
     },
     "execution_count": 7,
     "metadata": {},
     "output_type": "execute_result"
    }
   ],
   "source": [
    "df[['SEX', 'defaulted']].groupby(['SEX'], as_index=False).mean().sort_values(by='defaulted', ascending=False)"
   ]
  },
  {
   "cell_type": "code",
   "execution_count": 8,
   "metadata": {},
   "outputs": [
    {
     "data": {
      "text/html": [
       "<div>\n",
       "<style>\n",
       "    .dataframe thead tr:only-child th {\n",
       "        text-align: right;\n",
       "    }\n",
       "\n",
       "    .dataframe thead th {\n",
       "        text-align: left;\n",
       "    }\n",
       "\n",
       "    .dataframe tbody tr th {\n",
       "        vertical-align: top;\n",
       "    }\n",
       "</style>\n",
       "<table border=\"1\" class=\"dataframe\">\n",
       "  <thead>\n",
       "    <tr style=\"text-align: right;\">\n",
       "      <th></th>\n",
       "      <th>EDUCATION</th>\n",
       "      <th>defaulted</th>\n",
       "    </tr>\n",
       "  </thead>\n",
       "  <tbody>\n",
       "    <tr>\n",
       "      <th>3</th>\n",
       "      <td>3</td>\n",
       "      <td>0.251576</td>\n",
       "    </tr>\n",
       "    <tr>\n",
       "      <th>2</th>\n",
       "      <td>2</td>\n",
       "      <td>0.237349</td>\n",
       "    </tr>\n",
       "    <tr>\n",
       "      <th>1</th>\n",
       "      <td>1</td>\n",
       "      <td>0.192348</td>\n",
       "    </tr>\n",
       "    <tr>\n",
       "      <th>6</th>\n",
       "      <td>6</td>\n",
       "      <td>0.156863</td>\n",
       "    </tr>\n",
       "    <tr>\n",
       "      <th>5</th>\n",
       "      <td>5</td>\n",
       "      <td>0.064286</td>\n",
       "    </tr>\n",
       "    <tr>\n",
       "      <th>4</th>\n",
       "      <td>4</td>\n",
       "      <td>0.056911</td>\n",
       "    </tr>\n",
       "    <tr>\n",
       "      <th>0</th>\n",
       "      <td>0</td>\n",
       "      <td>0.000000</td>\n",
       "    </tr>\n",
       "  </tbody>\n",
       "</table>\n",
       "</div>"
      ],
      "text/plain": [
       "   EDUCATION  defaulted\n",
       "3          3   0.251576\n",
       "2          2   0.237349\n",
       "1          1   0.192348\n",
       "6          6   0.156863\n",
       "5          5   0.064286\n",
       "4          4   0.056911\n",
       "0          0   0.000000"
      ]
     },
     "execution_count": 8,
     "metadata": {},
     "output_type": "execute_result"
    }
   ],
   "source": [
    "df[['EDUCATION', 'defaulted']].groupby(['EDUCATION'], as_index=False).mean().sort_values(by='defaulted', ascending=False)"
   ]
  },
  {
   "cell_type": "code",
   "execution_count": 9,
   "metadata": {},
   "outputs": [
    {
     "data": {
      "text/html": [
       "<div>\n",
       "<style>\n",
       "    .dataframe thead tr:only-child th {\n",
       "        text-align: right;\n",
       "    }\n",
       "\n",
       "    .dataframe thead th {\n",
       "        text-align: left;\n",
       "    }\n",
       "\n",
       "    .dataframe tbody tr th {\n",
       "        vertical-align: top;\n",
       "    }\n",
       "</style>\n",
       "<table border=\"1\" class=\"dataframe\">\n",
       "  <thead>\n",
       "    <tr style=\"text-align: right;\">\n",
       "      <th></th>\n",
       "      <th>AGE</th>\n",
       "      <th>defaulted</th>\n",
       "    </tr>\n",
       "  </thead>\n",
       "  <tbody>\n",
       "    <tr>\n",
       "      <th>52</th>\n",
       "      <td>73</td>\n",
       "      <td>0.750000</td>\n",
       "    </tr>\n",
       "    <tr>\n",
       "      <th>40</th>\n",
       "      <td>61</td>\n",
       "      <td>0.375000</td>\n",
       "    </tr>\n",
       "    <tr>\n",
       "      <th>39</th>\n",
       "      <td>60</td>\n",
       "      <td>0.343284</td>\n",
       "    </tr>\n",
       "    <tr>\n",
       "      <th>54</th>\n",
       "      <td>75</td>\n",
       "      <td>0.333333</td>\n",
       "    </tr>\n",
       "    <tr>\n",
       "      <th>51</th>\n",
       "      <td>72</td>\n",
       "      <td>0.333333</td>\n",
       "    </tr>\n",
       "    <tr>\n",
       "      <th>46</th>\n",
       "      <td>67</td>\n",
       "      <td>0.312500</td>\n",
       "    </tr>\n",
       "    <tr>\n",
       "      <th>1</th>\n",
       "      <td>22</td>\n",
       "      <td>0.301786</td>\n",
       "    </tr>\n",
       "    <tr>\n",
       "      <th>43</th>\n",
       "      <td>64</td>\n",
       "      <td>0.290323</td>\n",
       "    </tr>\n",
       "    <tr>\n",
       "      <th>45</th>\n",
       "      <td>66</td>\n",
       "      <td>0.280000</td>\n",
       "    </tr>\n",
       "    <tr>\n",
       "      <th>25</th>\n",
       "      <td>46</td>\n",
       "      <td>0.275439</td>\n",
       "    </tr>\n",
       "  </tbody>\n",
       "</table>\n",
       "</div>"
      ],
      "text/plain": [
       "    AGE  defaulted\n",
       "52   73   0.750000\n",
       "40   61   0.375000\n",
       "39   60   0.343284\n",
       "54   75   0.333333\n",
       "51   72   0.333333\n",
       "46   67   0.312500\n",
       "1    22   0.301786\n",
       "43   64   0.290323\n",
       "45   66   0.280000\n",
       "25   46   0.275439"
      ]
     },
     "execution_count": 9,
     "metadata": {},
     "output_type": "execute_result"
    }
   ],
   "source": [
    "age_groups = df[['AGE', 'defaulted']].groupby(['AGE'], as_index=False).mean().sort_values(by='defaulted', ascending=False)\n",
    "age_groups.head(10)"
   ]
  },
  {
   "cell_type": "code",
   "execution_count": 10,
   "metadata": {},
   "outputs": [
    {
     "data": {
      "text/html": [
       "<div>\n",
       "<style>\n",
       "    .dataframe thead tr:only-child th {\n",
       "        text-align: right;\n",
       "    }\n",
       "\n",
       "    .dataframe thead th {\n",
       "        text-align: left;\n",
       "    }\n",
       "\n",
       "    .dataframe tbody tr th {\n",
       "        vertical-align: top;\n",
       "    }\n",
       "</style>\n",
       "<table border=\"1\" class=\"dataframe\">\n",
       "  <thead>\n",
       "    <tr style=\"text-align: right;\">\n",
       "      <th></th>\n",
       "      <th>AGE</th>\n",
       "      <th>defaulted</th>\n",
       "    </tr>\n",
       "  </thead>\n",
       "  <tbody>\n",
       "    <tr>\n",
       "      <th>9</th>\n",
       "      <td>30</td>\n",
       "      <td>0.196416</td>\n",
       "    </tr>\n",
       "    <tr>\n",
       "      <th>8</th>\n",
       "      <td>29</td>\n",
       "      <td>0.195016</td>\n",
       "    </tr>\n",
       "    <tr>\n",
       "      <th>11</th>\n",
       "      <td>32</td>\n",
       "      <td>0.194301</td>\n",
       "    </tr>\n",
       "    <tr>\n",
       "      <th>10</th>\n",
       "      <td>31</td>\n",
       "      <td>0.188168</td>\n",
       "    </tr>\n",
       "    <tr>\n",
       "      <th>24</th>\n",
       "      <td>45</td>\n",
       "      <td>0.188006</td>\n",
       "    </tr>\n",
       "    <tr>\n",
       "      <th>12</th>\n",
       "      <td>33</td>\n",
       "      <td>0.187609</td>\n",
       "    </tr>\n",
       "    <tr>\n",
       "      <th>41</th>\n",
       "      <td>62</td>\n",
       "      <td>0.159091</td>\n",
       "    </tr>\n",
       "    <tr>\n",
       "      <th>50</th>\n",
       "      <td>71</td>\n",
       "      <td>0.000000</td>\n",
       "    </tr>\n",
       "    <tr>\n",
       "      <th>53</th>\n",
       "      <td>74</td>\n",
       "      <td>0.000000</td>\n",
       "    </tr>\n",
       "    <tr>\n",
       "      <th>55</th>\n",
       "      <td>79</td>\n",
       "      <td>0.000000</td>\n",
       "    </tr>\n",
       "  </tbody>\n",
       "</table>\n",
       "</div>"
      ],
      "text/plain": [
       "    AGE  defaulted\n",
       "9    30   0.196416\n",
       "8    29   0.195016\n",
       "11   32   0.194301\n",
       "10   31   0.188168\n",
       "24   45   0.188006\n",
       "12   33   0.187609\n",
       "41   62   0.159091\n",
       "50   71   0.000000\n",
       "53   74   0.000000\n",
       "55   79   0.000000"
      ]
     },
     "execution_count": 10,
     "metadata": {},
     "output_type": "execute_result"
    }
   ],
   "source": [
    "age_groups.tail(10)"
   ]
  },
  {
   "cell_type": "markdown",
   "metadata": {},
   "source": [
    "## Plot the correlation between age and defaulted\n",
    "* Age between 20 to 40 have a relative higher tendenacy to be defaulted than other age group \n",
    "* Out of the segment about, female appear to have a marginal tendenacy to be defaulted than male segment "
   ]
  },
  {
   "cell_type": "code",
   "execution_count": 11,
   "metadata": {},
   "outputs": [
    {
     "data": {
      "text/plain": [
       "<seaborn.axisgrid.FacetGrid at 0x1a0834aac8>"
      ]
     },
     "execution_count": 11,
     "metadata": {},
     "output_type": "execute_result"
    },
    {
     "data": {
      "image/png": "[encoded data removed]",
      "text/plain": [
       "<matplotlib.figure.Figure at 0x1030669b0>"
      ]
     },
     "metadata": {},
     "output_type": "display_data"
    }
   ],
   "source": [
    "g = sns.FacetGrid(df, col='defaulted')\n",
    "g.map(plt.hist, 'AGE', bins=20) "
   ]
  },
  {
   "cell_type": "code",
   "execution_count": 12,
   "metadata": {},
   "outputs": [
    {
     "data": {
      "text/plain": [
       "<seaborn.axisgrid.FacetGrid at 0x104bde780>"
      ]
     },
     "execution_count": 12,
     "metadata": {},
     "output_type": "execute_result"
    },
    {
     "data": {
      "image/png": "[encoded data removed]",
      "text/plain": [
       "<matplotlib.figure.Figure at 0x104e78fd0>"
      ]
     },
     "metadata": {},
     "output_type": "display_data"
    }
   ],
   "source": [
    "grid = sns.FacetGrid(df, col='defaulted', row='SEX', size=2.2, aspect=1.6)\n",
    "grid.map(plt.hist, 'AGE', alpha=.5, bins=20)\n",
    "grid.add_legend()"
   ]
  },
  {
   "cell_type": "markdown",
   "metadata": {},
   "source": [
    "## Data Preprocessing - Feature Scaling (Normalisation)"
   ]
  },
  {
   "cell_type": "code",
   "execution_count": 13,
   "metadata": {
    "scrolled": true
   },
   "outputs": [],
   "source": [
    "X = df.iloc[:, :-1].values\n",
    "y = df.iloc[:, -1].values"
   ]
  },
  {
   "cell_type": "code",
   "execution_count": 14,
   "metadata": {
    "scrolled": true
   },
   "outputs": [
    {
     "name": "stderr",
     "output_type": "stream",
     "text": [
      "/Users/jasminelatham/anaconda/envs/py35/lib/python3.5/site-packages/sklearn/utils/validation.py:475: DataConversionWarning: Data with input dtype int64 was converted to float64 by MinMaxScaler.\n",
      "  warnings.warn(msg, DataConversionWarning)\n"
     ]
    }
   ],
   "source": [
    "from sklearn.preprocessing import MinMaxScaler\n",
    "sc = MinMaxScaler(feature_range = (0, 1))\n",
    "X = sc.fit_transform(X)"
   ]
  },
  {
   "cell_type": "markdown",
   "metadata": {},
   "source": [
    "## Training the Self Organising Map (SOM)"
   ]
  },
  {
   "cell_type": "code",
   "execution_count": 15,
   "metadata": {
    "collapsed": true
   },
   "outputs": [],
   "source": [
    "from minisom import MiniSom\n",
    "som = MiniSom(x = 20, y = 20, input_len = 24, sigma = 1.0, learning_rate = 0.5)\n",
    "som.random_weights_init(X)\n",
    "som.train_random(data = X, num_iteration = 100)"
   ]
  },
  {
   "cell_type": "markdown",
   "metadata": {},
   "source": [
    "## Visualising the results"
   ]
  },
  {
   "cell_type": "code",
   "execution_count": 16,
   "metadata": {
    "scrolled": true
   },
   "outputs": [
    {
     "data": {
      "text/plain": [
       "<matplotlib.figure.Figure at 0x104c7a6d8>"
      ]
     },
     "metadata": {},
     "output_type": "display_data"
    },
    {
     "data": {
      "image/png": "[encoded data removed]",
      "text/plain": [
       "<matplotlib.figure.Figure at 0x1a08a69e10>"
      ]
     },
     "metadata": {},
     "output_type": "display_data"
    }
   ],
   "source": [
    "from pylab import bone, pcolor, colorbar, plot, show\n",
    "bone()\n",
    "#Returns the distance map (matrix) of the weights (Mean Inter-neurons Distances (MID))\n",
    "#Each cell is the normalised (0 to 1) sum of the distances between a neuron (winning node) and its neighbours.\n",
    "plt.figure(figsize=(12,9))\n",
    "pcolor(som.distance_map().T) \n",
    "colorbar() #legend (1 indicates highest MID - outliers)\n",
    "markers = ['o', 's'] #circles(customer defaulted payment), squares(customer not defaulted payment)\n",
    "colors = ['r', 'g'] #rad (customer defaulted payment), green(customer not defaulted payment)\n",
    "\n",
    "for i, x in enumerate(X): #i (loops through y[index], x (loops through customers denoted as X))\n",
    "    w = som.winner(x)\n",
    "    plot(w[0] + 0.5, #co-ordinate along x-axis\n",
    "         w[1] + 0.5, #co-ordinate along y-axis\n",
    "         markers[y[i]], #y[i] == 1 (customer defaulted payment), y[i] == 0 (customer not defaulted payment)\n",
    "         markeredgecolor = colors[y[i]],\n",
    "         markerfacecolor = 'None',\n",
    "         markersize = 18,\n",
    "         markeredgewidth = 3)\n",
    "\n",
    "plt.tight_layout()\n",
    "plt.show()"
   ]
  },
  {
   "cell_type": "markdown",
   "metadata": {},
   "source": [
    "## Finding the credit card defaulters\n",
    "* get the mappings from winning nodes to the corresponding customers\n",
    "* mappings is a dictionary with key = (x,y) co-ordinates of the SOM\n",
    "* each key is referring to the group of customers associated with that winning node"
   ]
  },
  {
   "cell_type": "code",
   "execution_count": 17,
   "metadata": {
    "collapsed": true
   },
   "outputs": [],
   "source": [
    "mappings = som.win_map(X) "
   ]
  },
  {
   "cell_type": "markdown",
   "metadata": {},
   "source": [
    "### Identify customers that are of high risk in defaulting \n",
    "* Reference to the SOM map, the following winning nodes are of high risk: Mappings [1,9], Mappings [2,10], Mappings [13,12]\n",
    "* The threshold (MID) can be set by the sensitivity the bank wishes, in this example, we focus on MID = 1"
   ]
  },
  {
   "cell_type": "markdown",
   "metadata": {},
   "source": [
    "#### Inspecting a sample of these customers mapping"
   ]
  },
  {
   "cell_type": "code",
   "execution_count": 19,
   "metadata": {
    "scrolled": true
   },
   "outputs": [
    {
     "name": "stdout",
     "output_type": "stream",
     "text": [
      "\n",
      "The number of high risk customers defaulting in this group: 198\n"
     ]
    }
   ],
   "source": [
    "print ('\\nThe number of high risk customers defaulting in this group: {}'.format(len(mappings[2,10])))"
   ]
  },
  {
   "cell_type": "markdown",
   "metadata": {},
   "source": [
    "#### Concatenate all high risk customers "
   ]
  },
  {
   "cell_type": "code",
   "execution_count": 21,
   "metadata": {
    "scrolled": true
   },
   "outputs": [],
   "source": [
    "frauds = np.concatenate((mappings[(1,9)], mappings[(2,10)], mappings[(13,12)]), axis = 0)\n",
    "frauds = sc.inverse_transform(frauds)"
   ]
  },
  {
   "cell_type": "markdown",
   "metadata": {},
   "source": [
    "## Going from Unsupervised to Supervised Deep Learning"
   ]
  },
  {
   "cell_type": "code",
   "execution_count": 22,
   "metadata": {},
   "outputs": [
    {
     "data": {
      "text/plain": [
       "569"
      ]
     },
     "execution_count": 22,
     "metadata": {},
     "output_type": "execute_result"
    }
   ],
   "source": [
    "len(frauds)"
   ]
  },
  {
   "cell_type": "markdown",
   "metadata": {},
   "source": [
    "### Data pre-processing ready for ANN "
   ]
  },
  {
   "cell_type": "code",
   "execution_count": 23,
   "metadata": {
    "collapsed": true
   },
   "outputs": [],
   "source": [
    "# Creating the matrix of features\n",
    "customers = df.iloc[:, 1:].values #drop customerID column [1]"
   ]
  },
  {
   "cell_type": "code",
   "execution_count": 24,
   "metadata": {
    "collapsed": true
   },
   "outputs": [],
   "source": [
    "# Creating the dependent variable\n",
    "is_fraud = np.zeros(len(df))\n",
    "for i in range(len(df)):\n",
    "    if df.iloc[i,0] in frauds:\n",
    "        is_fraud[i] = 1"
   ]
  },
  {
   "cell_type": "code",
   "execution_count": 25,
   "metadata": {},
   "outputs": [
    {
     "name": "stdout",
     "output_type": "stream",
     "text": [
      "\n",
      "The total number of customers who are most likely to be defaulting are: 1792\n"
     ]
    }
   ],
   "source": [
    "print('\\nThe total number of customers who are most likely to be defaulting are: {}'.format(np.count_nonzero(is_fraud)))"
   ]
  },
  {
   "cell_type": "markdown",
   "metadata": {},
   "source": [
    "## Feature Scaling"
   ]
  },
  {
   "cell_type": "code",
   "execution_count": 26,
   "metadata": {},
   "outputs": [
    {
     "name": "stderr",
     "output_type": "stream",
     "text": [
      "/Users/jasminelatham/anaconda/envs/py35/lib/python3.5/site-packages/sklearn/utils/validation.py:475: DataConversionWarning: Data with input dtype int64 was converted to float64 by StandardScaler.\n",
      "  warnings.warn(msg, DataConversionWarning)\n"
     ]
    }
   ],
   "source": [
    "from sklearn.preprocessing import StandardScaler\n",
    "sc = StandardScaler()\n",
    "customers = sc.fit_transform(customers)"
   ]
  },
  {
   "cell_type": "markdown",
   "metadata": {},
   "source": [
    "## Initialising the ANN as sequence of layers"
   ]
  },
  {
   "cell_type": "code",
   "execution_count": 28,
   "metadata": {
    "scrolled": true
   },
   "outputs": [
    {
     "name": "stderr",
     "output_type": "stream",
     "text": [
      "Using TensorFlow backend.\n"
     ]
    }
   ],
   "source": [
    "# Importing the Keras libraries and packages\n",
    "from keras.models import Sequential\n",
    "from keras.layers import Dense\n",
    "classifier = Sequential()"
   ]
  },
  {
   "cell_type": "markdown",
   "metadata": {},
   "source": [
    "## Adding the first layer\n",
    "* Randomly initialise all weights to be uniformly distributed and as close to 0 (but not 0) as possible\n",
    "* Input first observation of dataset in the input layer, each feature in one input node, by setting input dimensions (number of independent variables)\n",
    "* Define the nodes for output layer. Parameter tuning using k-fold cross validation could be completed at later stage if necessary. As an initial test, a good practise is simply to half the total number of dependent and independent variables."
   ]
  },
  {
   "cell_type": "code",
   "execution_count": 29,
   "metadata": {
    "collapsed": true
   },
   "outputs": [],
   "source": [
    "classifier.add(Dense(input_dim = 24, units = 2, kernel_initializer = 'uniform', activation = 'relu'))"
   ]
  },
  {
   "cell_type": "markdown",
   "metadata": {},
   "source": [
    "## Adding the output layer - Perceptron\n",
    "* 1 node (binary output for customer will leave the bank or not) \n",
    "* An activation function using signmoid for computing the probability in a logistic regression model"
   ]
  },
  {
   "cell_type": "code",
   "execution_count": 30,
   "metadata": {
    "collapsed": true
   },
   "outputs": [],
   "source": [
    "classifier.add(Dense(units = 1, kernel_initializer = 'uniform', activation = 'sigmoid'))"
   ]
  },
  {
   "cell_type": "markdown",
   "metadata": {},
   "source": [
    "## Applying Stochastic Gradient Descent\n",
    "* Adam is a variant of SGD for its effeciency and the coresponding loss function to be optimsed in order to achieve a set of optimal weights of the ANN. \n",
    "* The loss function for adam SGD is Logarithmic Loss. \n",
    "* For a binary classification outcome, the loss = binary_crossentropy. \n",
    "* For a categorical outcome, the loss = categorical_crossentrophy. \n",
    "* During each Epoch (observations) training, after all weights have been updated, accuracy metric is used to improve the model. "
   ]
  },
  {
   "cell_type": "code",
   "execution_count": 32,
   "metadata": {
    "collapsed": true
   },
   "outputs": [],
   "source": [
    "classifier.compile(optimizer = 'adam', loss = 'binary_crossentropy', metrics = ['accuracy'])"
   ]
  },
  {
   "cell_type": "code",
   "execution_count": 33,
   "metadata": {
    "collapsed": true
   },
   "outputs": [],
   "source": [
    "# Callback\n",
    "from keras.callbacks import History\n",
    "histories = History()"
   ]
  },
  {
   "cell_type": "markdown",
   "metadata": {},
   "source": [
    "## Fitting the ANN to the training set\n",
    "* Having experimented with different epochs, the ANN model has learned this dataset in less than 5 epochs. "
   ]
  },
  {
   "cell_type": "code",
   "execution_count": 34,
   "metadata": {},
   "outputs": [
    {
     "name": "stdout",
     "output_type": "stream",
     "text": [
      "Train on 21000 samples, validate on 9000 samples\n",
      "Epoch 1/2\n",
      "21000/21000 [==============================] - 49s 2ms/step - loss: 0.2393 - acc: 0.9403 - val_loss: 0.2289 - val_acc: 0.9402\n",
      "Epoch 2/2\n",
      "21000/21000 [==============================] - 49s 2ms/step - loss: 0.2251 - acc: 0.9403 - val_loss: 0.2275 - val_acc: 0.9402\n"
     ]
    },
    {
     "data": {
      "text/plain": [
       "<keras.callbacks.History at 0x1a28e8c278>"
      ]
     },
     "execution_count": 34,
     "metadata": {},
     "output_type": "execute_result"
    }
   ],
   "source": [
    "from sklearn.model_selection import train_test_split\n",
    "X_train, X_test, y_train, y_test = train_test_split(customers, is_fraud, test_size=0.3)\n",
    "\n",
    "classifier.fit(X_train, y_train, batch_size = 1, epochs = 2, validation_data = (X_test,y_test), callbacks = [histories])"
   ]
  },
  {
   "cell_type": "markdown",
   "metadata": {},
   "source": [
    "## Making the predictions\n",
    "* Predicting the probabilities of each customer defaulting on their credit cards\n",
    "* Rank in the order of highest risk\n",
    "* (Customer ID, Default Probability) of the top 10 customers "
   ]
  },
  {
   "cell_type": "code",
   "execution_count": 36,
   "metadata": {},
   "outputs": [
    {
     "data": {
      "text/plain": [
       "array([[  2.13490000e+04,   2.01390952e-01],\n",
       "       [  1.69530000e+04,   1.99181244e-01],\n",
       "       [  3.26500000e+03,   1.94865942e-01],\n",
       "       [  1.92100000e+03,   1.84863925e-01],\n",
       "       [  2.51220000e+04,   1.84138328e-01],\n",
       "       [  2.49630000e+04,   1.73477337e-01],\n",
       "       [  2.74580000e+04,   1.70554608e-01],\n",
       "       [  2.68470000e+04,   1.69969708e-01],\n",
       "       [  6.64000000e+03,   1.68075621e-01],\n",
       "       [  2.68710000e+04,   1.67951941e-01]])"
      ]
     },
     "execution_count": 36,
     "metadata": {},
     "output_type": "execute_result"
    }
   ],
   "source": [
    "y_pred = classifier.predict(customers)\n",
    "y_pred = np.concatenate((df.iloc[:, 0:1].values, y_pred), axis = 1)\n",
    "y_pred = y_pred[y_pred[:, 1].argsort()[::-1][:len(y_pred)]]# sort customer with the highest frauldent probabilty. \n",
    "y_pred[:10]"
   ]
  },
  {
   "cell_type": "markdown",
   "metadata": {},
   "source": [
    "## Run K-fold Cross Validation to assess model's performance\n",
    "* Based on the initial experiments above, further establish bias and variances of the model\n",
    "* The result shows a low bias and low variance. "
   ]
  },
  {
   "cell_type": "code",
   "execution_count": 37,
   "metadata": {
    "collapsed": true
   },
   "outputs": [],
   "source": [
    "from keras.wrappers.scikit_learn import KerasClassifier \n",
    "from sklearn.model_selection import cross_val_score"
   ]
  },
  {
   "cell_type": "code",
   "execution_count": 38,
   "metadata": {},
   "outputs": [
    {
     "name": "stdout",
     "output_type": "stream",
     "text": [
      "Epoch 1/5\n",
      "18900/18900 [==============================] - 40s 2ms/step - loss: 0.2492 - acc: 0.9402\n",
      "Epoch 2/5\n",
      "18900/18900 [==============================] - 40s 2ms/step - loss: 0.2259 - acc: 0.9403\n",
      "Epoch 3/5\n",
      "18900/18900 [==============================] - 40s 2ms/step - loss: 0.2248 - acc: 0.9403\n",
      "Epoch 4/5\n",
      "18900/18900 [==============================] - 40s 2ms/step - loss: 0.2242 - acc: 0.9403\n",
      "Epoch 5/5\n",
      "18900/18900 [==============================] - 41s 2ms/step - loss: 0.2243 - acc: 0.9403\n",
      "2100/2100 [==============================] - 1s 641us/step\n",
      "Epoch 1/5\n",
      "18900/18900 [==============================] - 42s 2ms/step - loss: 0.2444 - acc: 0.9408\n",
      "Epoch 2/5\n",
      "18900/18900 [==============================] - 41s 2ms/step - loss: 0.2237 - acc: 0.9408\n",
      "Epoch 3/5\n",
      "18900/18900 [==============================] - 40s 2ms/step - loss: 0.2232 - acc: 0.9408\n",
      "Epoch 4/5\n",
      "18900/18900 [==============================] - 40s 2ms/step - loss: 0.2228 - acc: 0.9408\n",
      "Epoch 5/5\n",
      "18900/18900 [==============================] - 40s 2ms/step - loss: 0.2225 - acc: 0.9408\n",
      "2100/2100 [==============================] - 1s 684us/step\n",
      "Epoch 1/5\n",
      "18900/18900 [==============================] - 40s 2ms/step - loss: 0.2422 - acc: 0.9403\n",
      "Epoch 2/5\n",
      "18900/18900 [==============================] - 40s 2ms/step - loss: 0.2268 - acc: 0.9404\n",
      "Epoch 3/5\n",
      "18900/18900 [==============================] - 41s 2ms/step - loss: 0.2259 - acc: 0.9404\n",
      "Epoch 4/5\n",
      "18900/18900 [==============================] - 40s 2ms/step - loss: 0.2251 - acc: 0.9404\n",
      "Epoch 5/5\n",
      "18900/18900 [==============================] - 40s 2ms/step - loss: 0.2248 - acc: 0.9404\n",
      "2100/2100 [==============================] - 1s 686us/step\n",
      "Epoch 1/5\n",
      "18900/18900 [==============================] - 38s 2ms/step - loss: 0.2413 - acc: 0.9404\n",
      "Epoch 2/5\n",
      "18900/18900 [==============================] - 38s 2ms/step - loss: 0.2267 - acc: 0.9404\n",
      "Epoch 3/5\n",
      "18900/18900 [==============================] - 38s 2ms/step - loss: 0.2254 - acc: 0.9404\n",
      "Epoch 4/5\n",
      "18900/18900 [==============================] - 38s 2ms/step - loss: 0.2255 - acc: 0.9404\n",
      "Epoch 5/5\n",
      "18900/18900 [==============================] - 38s 2ms/step - loss: 0.2252 - acc: 0.9404\n",
      "2100/2100 [==============================] - 1s 695us/step\n",
      "Epoch 1/5\n",
      "18900/18900 [==============================] - 39s 2ms/step - loss: 0.2443 - acc: 0.9391\n",
      "Epoch 2/5\n",
      "18900/18900 [==============================] - 39s 2ms/step - loss: 0.2288 - acc: 0.9394\n",
      "Epoch 3/5\n",
      "18900/18900 [==============================] - 39s 2ms/step - loss: 0.2283 - acc: 0.9394\n",
      "Epoch 4/5\n",
      "18900/18900 [==============================] - 39s 2ms/step - loss: 0.2273 - acc: 0.9394\n",
      "Epoch 5/5\n",
      "18900/18900 [==============================] - 39s 2ms/step - loss: 0.2272 - acc: 0.9394\n",
      "2100/2100 [==============================] - 2s 724us/step\n",
      "Epoch 1/5\n",
      "18900/18900 [==============================] - 39s 2ms/step - loss: 0.2437 - acc: 0.9407\n",
      "Epoch 2/5\n",
      "18900/18900 [==============================] - 39s 2ms/step - loss: 0.2236 - acc: 0.9407\n",
      "Epoch 3/5\n",
      "18900/18900 [==============================] - 39s 2ms/step - loss: 0.2223 - acc: 0.9407\n",
      "Epoch 4/5\n",
      "18900/18900 [==============================] - 39s 2ms/step - loss: 0.2227 - acc: 0.9407\n",
      "Epoch 5/5\n",
      "18900/18900 [==============================] - 39s 2ms/step - loss: 0.2223 - acc: 0.9407\n",
      "2100/2100 [==============================] - 2s 746us/step\n",
      "Epoch 1/5\n",
      "18900/18900 [==============================] - 45s 2ms/step - loss: 0.2406 - acc: 0.9402\n",
      "Epoch 2/5\n",
      "18900/18900 [==============================] - 43s 2ms/step - loss: 0.2266 - acc: 0.9403\n",
      "Epoch 3/5\n",
      "18900/18900 [==============================] - 43s 2ms/step - loss: 0.2251 - acc: 0.9403\n",
      "Epoch 4/5\n",
      "18900/18900 [==============================] - 43s 2ms/step - loss: 0.2245 - acc: 0.9403\n",
      "Epoch 5/5\n",
      "18900/18900 [==============================] - 43s 2ms/step - loss: 0.2244 - acc: 0.9403\n",
      "2100/2100 [==============================] - 2s 760us/step\n",
      "Epoch 1/5\n",
      "18900/18900 [==============================] - 43s 2ms/step - loss: 0.2436 - acc: 0.9396\n",
      "Epoch 2/5\n",
      "18900/18900 [==============================] - 42s 2ms/step - loss: 0.2275 - acc: 0.9399\n",
      "Epoch 3/5\n",
      "18900/18900 [==============================] - 42s 2ms/step - loss: 0.2272 - acc: 0.9399\n",
      "Epoch 4/5\n",
      "18900/18900 [==============================] - 42s 2ms/step - loss: 0.2265 - acc: 0.9399\n",
      "Epoch 5/5\n",
      "18900/18900 [==============================] - 42s 2ms/step - loss: 0.2262 - acc: 0.9399\n",
      "2100/2100 [==============================] - 2s 778us/step\n",
      "Epoch 1/5\n",
      "18900/18900 [==============================] - 43s 2ms/step - loss: 0.2435 - acc: 0.9398\n",
      "Epoch 2/5\n",
      "18900/18900 [==============================] - 42s 2ms/step - loss: 0.2275 - acc: 0.9399\n",
      "Epoch 3/5\n",
      "18900/18900 [==============================] - 43s 2ms/step - loss: 0.2261 - acc: 0.9399\n",
      "Epoch 4/5\n",
      "18900/18900 [==============================] - 42s 2ms/step - loss: 0.2257 - acc: 0.9399\n",
      "Epoch 5/5\n",
      "18900/18900 [==============================] - 43s 2ms/step - loss: 0.2255 - acc: 0.9399\n",
      "2100/2100 [==============================] - 2s 811us/step\n",
      "Epoch 1/5\n",
      "18900/18900 [==============================] - 40s 2ms/step - loss: 0.2381 - acc: 0.9407\n",
      "Epoch 2/5\n",
      "18900/18900 [==============================] - 40s 2ms/step - loss: 0.2246 - acc: 0.9407\n",
      "Epoch 3/5\n",
      "18900/18900 [==============================] - 40s 2ms/step - loss: 0.2241 - acc: 0.9407\n",
      "Epoch 4/5\n",
      "18900/18900 [==============================] - 41s 2ms/step - loss: 0.2236 - acc: 0.9407\n",
      "Epoch 5/5\n",
      "18900/18900 [==============================] - 41s 2ms/step - loss: 0.2228 - acc: 0.9407\n",
      "2100/2100 [==============================] - 2s 802us/step\n"
     ]
    }
   ],
   "source": [
    "def build_classifier():\n",
    "    classifier = Sequential()  \n",
    "    classifier.add(Dense(input_dim = 24, units = 2, kernel_initializer = 'uniform', activation = 'relu'))\n",
    "    classifier.add(Dense(units = 1, kernel_initializer = 'uniform', activation = 'sigmoid'))  \n",
    "    classifier.compile(optimizer = 'adam', loss = 'binary_crossentropy', metrics = ['accuracy'])\n",
    "    return classifier\n",
    "\n",
    "classifier = KerasClassifier(build_fn = build_classifier, batch_size = 1, epochs = 5)\n",
    "accuracies = cross_val_score(estimator = classifier, X = X_train, y = y_train, cv = 10)\n",
    "mean = accuracies.mean()*100\n",
    "variance = accuracies.std()*100"
   ]
  },
  {
   "cell_type": "code",
   "execution_count": 39,
   "metadata": {},
   "outputs": [
    {
     "name": "stdout",
     "output_type": "stream",
     "text": [
      "The mean accuracy of the model is: 94.03%, with a (+/- 0.37%) variance\n"
     ]
    }
   ],
   "source": [
    "print('The mean accuracy of the model is: %.2f%%, with a (+/- %.2f%%) variance' % (mean, variance))"
   ]
  }
 ],
 "metadata": {
  "kernelspec": {
   "display_name": "Python 3",
   "language": "python",
   "name": "python3"
  },
  "language_info": {
   "codemirror_mode": {
    "name": "ipython",
    "version": 3
   },
   "file_extension": ".py",
   "mimetype": "text/x-python",
   "name": "python",
   "nbconvert_exporter": "python",
   "pygments_lexer": "ipython3",
   "version": "3.5.4"
  }
 },
 "nbformat": 4,
 "nbformat_minor": 2
}
