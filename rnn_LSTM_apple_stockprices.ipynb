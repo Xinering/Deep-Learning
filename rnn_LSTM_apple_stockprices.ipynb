{
 "cells": [
  {
   "cell_type": "markdown",
   "metadata": {},
   "source": [
    "# Recurrent Neural Network - LSTM on Stock Prices: Apple Inc.\n",
    "\n",
    "## Objectives: \n",
    "Building Recurrent Neural Network (RNN) to: \n",
    "* Learn and train based on the sequential time series   \n",
    "* Complete RNN based on Long Short Term Memory (LSTM) architecture. An excellent description of LSTM can be found here. http://colah.github.io/posts/2015-08-Understanding-LSTMs/\n",
    "* 4 x LSTM layers with 1 output layer  \n",
    "\n",
    "\n",
    "## Steps: \n",
    "1) Feature Scaling (Apply Normalisation) to the training set \n",
    "\n",
    "2) Creating a data structure with look-back timesteps (t), and output (t+1)\n",
    "    \n",
    "3) Reshaping X_train (t)\n",
    "\n",
    "4) Getting the X_test, Features Scaling (Apply Normalisation) to the test set \n",
    "  \n",
    "5) Building RNN: 4 x LSTM layers with 1 output layer \n",
    "\n",
    "6) Compiling RNN \n",
    "\n",
    "6) Fitting RNN to the training set \n",
    "\n",
    "7) Evaluate the model, visualise the analysis results\n",
    "\n",
    "8) Parameters tuning to improve the accuracy of the model\n",
    "\n",
    "Scenario: To build a RNN model to predict Apple Inc's stockprice between 1st Jan 2018 to 31st Jan 2018, using the historical stock prices data from 1st Jan 2008 to 31st Dec 2017.  \n",
    "\n",
    "### Dataset: \n",
    "\n",
    "Google Finance : https://finance.google.com/finance\n",
    "\n",
    "The historical finanical data as training set: 1st Jan 2008 to 31st Dec 2017\n",
    "\n",
    "Test set: 1st Jan 2018 to 31st Jan 2018 "
   ]
  },
  {
   "cell_type": "code",
   "execution_count": 8,
   "metadata": {
    "collapsed": true
   },
   "outputs": [],
   "source": [
    "# Importing the libraries\n",
    "import numpy as np\n",
    "import matplotlib.pyplot as plt\n",
    "import pandas as pd"
   ]
  },
  {
   "cell_type": "code",
   "execution_count": 9,
   "metadata": {
    "collapsed": true
   },
   "outputs": [],
   "source": [
    "# Importing the training set\n",
    "df_train = pd.read_csv('apple_stockprice_train.csv')\n",
    "training_set = df_train.iloc[:, 1:2].values "
   ]
  },
  {
   "cell_type": "markdown",
   "metadata": {},
   "source": [
    "## Feature Scaling - Normalisation \n",
    "* LSTMs are sensitive to the scale of input data, particularly with the the default activation functions sigmoid or tanh.\n",
    "* Important: To preserve the integrity of the test set (X_test: time segement to be predicted), the test set cannot be scaled (normalised) with the training set. We are not supposed to know the test set.   "
   ]
  },
  {
   "cell_type": "code",
   "execution_count": 10,
   "metadata": {
    "collapsed": true
   },
   "outputs": [],
   "source": [
    "from sklearn.preprocessing import MinMaxScaler\n",
    "sc = MinMaxScaler(feature_range = (0, 1)) # normalised between 0 and 1\n",
    "training_set_scaled = sc.fit_transform(training_set)"
   ]
  },
  {
   "cell_type": "markdown",
   "metadata": {},
   "source": [
    "## Creating a data structure with look-back timesteps (t), and output (t+1)\n",
    "* First, need to establish a suitable timesteps for the RNN network to learn the data\n",
    "* Unit for each time sequence corresponds to 1 financial day\n",
    "* Parameters tuning (e.g., timesteps, sample sizes) will be necessary to improve the accuracy of the model.\n",
    "* 20 days = 1 financial month \n",
    "* Model training: The objective is to use every 3 consecutive months (t) to predict the stock price for the next day (t+1). The whole time sequence is then shifted by 1 day, and repeating the training process. \n",
    "* Every subsequent time element of t is appended as X_train (i.e., look back timesteps as 60 days)\n",
    "* Every subsequent time element of t+1 is appended as y_train (i.e., 1 day)"
   ]
  },
  {
   "cell_type": "code",
   "execution_count": 11,
   "metadata": {
    "collapsed": true
   },
   "outputs": [],
   "source": [
    "timesteps = 120 #in days, experiment with other days unit to tune the accuracy of the model \n",
    "\n",
    "X_train = []\n",
    "y_train = []\n",
    "\n",
    "for i in range(timesteps, len(training_set_scaled)):\n",
    "    X_train.append(training_set_scaled[i-timesteps:i, 0]) #(t):memorise the 60 (0 to 59) look-back stock prices\n",
    "    y_train.append(training_set_scaled[i, 0]) #(t+1): the 61st stock price (60)\n",
    "X_train, y_train = np.array(X_train), np.array(y_train)"
   ]
  },
  {
   "cell_type": "markdown",
   "metadata": {},
   "source": [
    "## Reshaping X_train (t)\n",
    "* Reshaping X_train from 2D numpy array to 3D numpy array (i.e., tensor) as required by Keras RNN\n",
    "* batch_size = number of rows of X_train\n",
    "* timesteps = number of columns of X_train\n",
    "* input_dim = 1 predictor (i.e., Apple Inc's stock price) "
   ]
  },
  {
   "cell_type": "code",
   "execution_count": 12,
   "metadata": {
    "collapsed": true
   },
   "outputs": [],
   "source": [
    "X_train = np.reshape(X_train, (X_train.shape[0], X_train.shape[1], 1)) # batch_size, timesteps, input_dim"
   ]
  },
  {
   "cell_type": "markdown",
   "metadata": {},
   "source": [
    "# Getting the X_test\n",
    "* Getting the real stock price to validate our predicted results (1st to 31st Jan 2018)\n",
    "* concatenate the previous timesteps (60days) to predict day 1 of our test set (i.e., 1st Jan 2018)\n",
    "* feature scaling (normalisation) is then applied on this dataset \n",
    "* reshaping X_test from 2D numpy array to 3D numpy array (i.e., tensor) as required by Keras RNN, the regressor's predict function."
   ]
  },
  {
   "cell_type": "code",
   "execution_count": 13,
   "metadata": {
    "collapsed": true
   },
   "outputs": [],
   "source": [
    "df_test = pd.read_csv('apple_stockprice_test.csv')\n",
    "real_stock_price = df_test.iloc[:, 1:2].values\n",
    "df_total = pd.concat((df_train['Open'], df_test['Open']), axis = 0) #vertical concatenation \n",
    "inputs = df_total[len(df_total) - len(df_test) - timesteps:].values\n",
    "inputs = inputs.reshape(-1,1)\n",
    "inputs = sc.transform(inputs)  \n",
    "X_test = []\n",
    "for i in range(timesteps, len(inputs)):\n",
    "    X_test.append(inputs[i-timesteps:i, 0])\n",
    "X_test = np.array(X_test)\n",
    "X_test = np.reshape(X_test, (X_test.shape[0], X_test.shape[1], 1))"
   ]
  },
  {
   "cell_type": "markdown",
   "metadata": {},
   "source": [
    "## Building the RNN\n",
    "* units = sufficient number of LSTM memory cells (neutrons) to learn the stock prices\n",
    "* return_sequences = True (to prepare stacking in subsequent LSTM layers, default is set as false) \n",
    "* input_shape = timesteps and predictor (batch_size is not required)\n",
    "* drop 20% of the neutrons in each layer to avoid overfitting (i.e., 10 neutrons will be dropped out during each training)"
   ]
  },
  {
   "cell_type": "code",
   "execution_count": 14,
   "metadata": {},
   "outputs": [
    {
     "name": "stderr",
     "output_type": "stream",
     "text": [
      "Using TensorFlow backend.\n"
     ]
    }
   ],
   "source": [
    "# Importing the Keras libraries and packages\n",
    "from keras.models import Sequential\n",
    "from keras.layers import Dense\n",
    "from keras.layers import LSTM\n",
    "from keras.layers import Dropout\n",
    "\n",
    "# Initialising the RNN\n",
    "regressor = Sequential()\n",
    "\n",
    "# Adding the first LSTM layer and some Dropout regularisation\n",
    "regressor.add(LSTM(units = 50, return_sequences = True, input_shape = (X_train.shape[1], 1)))\n",
    "regressor.add(Dropout(0.2)) \n",
    "\n",
    "# Adding a second LSTM layer and some Dropout regularisation\n",
    "regressor.add(LSTM(units = 50, return_sequences = True))\n",
    "regressor.add(Dropout(0.2))\n",
    "\n",
    "# Adding a third LSTM layer and some Dropout regularisation\n",
    "regressor.add(LSTM(units = 50, return_sequences = True))\n",
    "regressor.add(Dropout(0.2))\n",
    "\n",
    "# Adding a fourth LSTM layer and some Dropout regularisation\n",
    "regressor.add(LSTM(units = 50))\n",
    "regressor.add(Dropout(0.2))\n",
    "\n",
    "# Adding the output layer\n",
    "regressor.add(Dense(units = 1))"
   ]
  },
  {
   "cell_type": "markdown",
   "metadata": {},
   "source": [
    "## Compiling the RNN\n",
    "* Keras documentation recommends using RMSprop for RNN, having experimented it, adam gave better results so far"
   ]
  },
  {
   "cell_type": "code",
   "execution_count": 15,
   "metadata": {
    "collapsed": true
   },
   "outputs": [],
   "source": [
    "regressor.compile(optimizer = 'adam', loss = 'mean_squared_error')"
   ]
  },
  {
   "cell_type": "markdown",
   "metadata": {},
   "source": [
    "## Fitting the RNN to the Training set\n",
    "* Initialise callbacks: History, EarlyStopping if necessary "
   ]
  },
  {
   "cell_type": "code",
   "execution_count": 16,
   "metadata": {
    "scrolled": true
   },
   "outputs": [
    {
     "name": "stdout",
     "output_type": "stream",
     "text": [
      "Train on 1677 samples, validate on 720 samples\n",
      "Epoch 1/100\n",
      "1677/1677 [==============================] - 51s 30ms/step - loss: 0.0279 - val_loss: 0.0052\n",
      "Epoch 2/100\n",
      "1677/1677 [==============================] - 52s 31ms/step - loss: 0.0037 - val_loss: 5.9210e-04\n",
      "Epoch 3/100\n",
      "1677/1677 [==============================] - 51s 30ms/step - loss: 0.0032 - val_loss: 2.8463e-04\n",
      "Epoch 4/100\n",
      "1677/1677 [==============================] - 52s 31ms/step - loss: 0.0030 - val_loss: 2.4109e-04\n",
      "Epoch 5/100\n",
      "1677/1677 [==============================] - 51s 31ms/step - loss: 0.0029 - val_loss: 5.5855e-04\n",
      "Epoch 6/100\n",
      "1677/1677 [==============================] - 53s 31ms/step - loss: 0.0027 - val_loss: 5.8363e-04\n",
      "Epoch 7/100\n",
      "1677/1677 [==============================] - 50s 30ms/step - loss: 0.0028 - val_loss: 3.5570e-04\n",
      "Epoch 8/100\n",
      "1677/1677 [==============================] - 50s 30ms/step - loss: 0.0027 - val_loss: 3.2534e-04\n",
      "Epoch 9/100\n",
      "1677/1677 [==============================] - 51s 30ms/step - loss: 0.0024 - val_loss: 1.3849e-04\n",
      "Epoch 10/100\n",
      "1677/1677 [==============================] - 51s 30ms/step - loss: 0.0024 - val_loss: 2.2960e-04\n",
      "Epoch 11/100\n",
      "1677/1677 [==============================] - 53s 32ms/step - loss: 0.0023 - val_loss: 2.0263e-04\n",
      "Epoch 12/100\n",
      "1677/1677 [==============================] - 53s 32ms/step - loss: 0.0024 - val_loss: 1.2804e-04\n",
      "Epoch 13/100\n",
      "1677/1677 [==============================] - 52s 31ms/step - loss: 0.0024 - val_loss: 1.7214e-04\n",
      "Epoch 14/100\n",
      "1677/1677 [==============================] - 50s 30ms/step - loss: 0.0020 - val_loss: 2.0132e-04\n",
      "Epoch 15/100\n",
      "1677/1677 [==============================] - 53s 31ms/step - loss: 0.0021 - val_loss: 1.7625e-04\n",
      "Epoch 16/100\n",
      "1677/1677 [==============================] - 51s 31ms/step - loss: 0.0022 - val_loss: 1.0957e-04\n",
      "Epoch 17/100\n",
      "1677/1677 [==============================] - 52s 31ms/step - loss: 0.0020 - val_loss: 2.1022e-04\n",
      "Epoch 18/100\n",
      "1677/1677 [==============================] - 50s 30ms/step - loss: 0.0019 - val_loss: 3.3215e-04\n",
      "Epoch 19/100\n",
      "1677/1677 [==============================] - 50s 30ms/step - loss: 0.0020 - val_loss: 1.1614e-04\n",
      "Epoch 20/100\n",
      "1677/1677 [==============================] - 50s 30ms/step - loss: 0.0016 - val_loss: 1.1545e-04\n",
      "Epoch 21/100\n",
      "1677/1677 [==============================] - 49s 29ms/step - loss: 0.0016 - val_loss: 9.4735e-05\n",
      "Epoch 22/100\n",
      "1677/1677 [==============================] - 52s 31ms/step - loss: 0.0017 - val_loss: 2.8933e-04\n",
      "Epoch 23/100\n",
      "1677/1677 [==============================] - 50s 30ms/step - loss: 0.0016 - val_loss: 1.5574e-04\n",
      "Epoch 24/100\n",
      "1677/1677 [==============================] - 50s 30ms/step - loss: 0.0019 - val_loss: 1.9479e-04\n",
      "Epoch 25/100\n",
      "1677/1677 [==============================] - 50s 30ms/step - loss: 0.0016 - val_loss: 2.9620e-04\n",
      "Epoch 26/100\n",
      "1677/1677 [==============================] - 50s 30ms/step - loss: 0.0016 - val_loss: 8.9975e-05\n",
      "Epoch 27/100\n",
      "1677/1677 [==============================] - 50s 30ms/step - loss: 0.0016 - val_loss: 1.0160e-04\n",
      "Epoch 28/100\n",
      "1677/1677 [==============================] - 52s 31ms/step - loss: 0.0016 - val_loss: 8.6526e-05\n",
      "Epoch 29/100\n",
      "1677/1677 [==============================] - 53s 32ms/step - loss: 0.0016 - val_loss: 1.0861e-04\n",
      "Epoch 30/100\n",
      "1677/1677 [==============================] - 54s 32ms/step - loss: 0.0015 - val_loss: 5.6570e-04\n",
      "Epoch 31/100\n",
      "1677/1677 [==============================] - 53s 31ms/step - loss: 0.0014 - val_loss: 9.4981e-05\n",
      "Epoch 32/100\n",
      "1677/1677 [==============================] - 51s 31ms/step - loss: 0.0013 - val_loss: 5.8030e-04\n",
      "Epoch 33/100\n",
      "1677/1677 [==============================] - 50s 30ms/step - loss: 0.0014 - val_loss: 8.9153e-05\n",
      "Epoch 34/100\n",
      "1677/1677 [==============================] - 52s 31ms/step - loss: 0.0014 - val_loss: 8.8312e-05\n",
      "Epoch 35/100\n",
      "1677/1677 [==============================] - 50s 30ms/step - loss: 0.0014 - val_loss: 0.0011\n",
      "Epoch 36/100\n",
      "1677/1677 [==============================] - 53s 32ms/step - loss: 0.0013 - val_loss: 1.6531e-04\n",
      "Epoch 37/100\n",
      "1677/1677 [==============================] - 52s 31ms/step - loss: 0.0012 - val_loss: 7.9793e-05\n",
      "Epoch 38/100\n",
      "1677/1677 [==============================] - 51s 31ms/step - loss: 0.0012 - val_loss: 1.1172e-04\n",
      "Epoch 39/100\n",
      "1677/1677 [==============================] - 51s 31ms/step - loss: 0.0012 - val_loss: 1.7916e-04\n",
      "Epoch 40/100\n",
      "1677/1677 [==============================] - 51s 30ms/step - loss: 0.0013 - val_loss: 1.0323e-04\n",
      "Epoch 41/100\n",
      "1677/1677 [==============================] - 51s 31ms/step - loss: 0.0012 - val_loss: 9.4134e-04\n",
      "Epoch 42/100\n",
      "1677/1677 [==============================] - 50s 30ms/step - loss: 0.0012 - val_loss: 8.2019e-05\n",
      "Epoch 43/100\n",
      "1677/1677 [==============================] - 51s 30ms/step - loss: 0.0012 - val_loss: 7.9180e-05\n",
      "Epoch 44/100\n",
      "1677/1677 [==============================] - 51s 30ms/step - loss: 0.0012 - val_loss: 6.5392e-05\n",
      "Epoch 45/100\n",
      "1677/1677 [==============================] - 52s 31ms/step - loss: 0.0011 - val_loss: 2.6938e-04\n",
      "Epoch 46/100\n",
      "1677/1677 [==============================] - 52s 31ms/step - loss: 9.6358e-04 - val_loss: 1.4039e-04\n",
      "Epoch 47/100\n",
      "1677/1677 [==============================] - 51s 30ms/step - loss: 0.0010 - val_loss: 7.7380e-05\n",
      "Epoch 48/100\n",
      "1677/1677 [==============================] - 50s 30ms/step - loss: 0.0010 - val_loss: 1.6064e-04\n",
      "Epoch 49/100\n",
      "1677/1677 [==============================] - 51s 31ms/step - loss: 0.0011 - val_loss: 1.2575e-04\n",
      "Epoch 50/100\n",
      "1677/1677 [==============================] - 51s 30ms/step - loss: 0.0012 - val_loss: 2.1007e-04\n",
      "Epoch 51/100\n",
      "1677/1677 [==============================] - 53s 31ms/step - loss: 9.7740e-04 - val_loss: 4.0711e-04\n",
      "Epoch 52/100\n",
      "1677/1677 [==============================] - 50s 30ms/step - loss: 8.9358e-04 - val_loss: 9.1919e-05\n",
      "Epoch 53/100\n",
      "1677/1677 [==============================] - 51s 30ms/step - loss: 9.1922e-04 - val_loss: 4.0474e-04\n",
      "Epoch 54/100\n",
      "1677/1677 [==============================] - 50s 30ms/step - loss: 9.8229e-04 - val_loss: 2.3539e-04\n",
      "Epoch 55/100\n",
      "1677/1677 [==============================] - 51s 30ms/step - loss: 9.3721e-04 - val_loss: 2.9514e-04\n",
      "Epoch 56/100\n",
      "1677/1677 [==============================] - 51s 30ms/step - loss: 8.9330e-04 - val_loss: 1.5130e-04\n",
      "Epoch 57/100\n",
      "1677/1677 [==============================] - 51s 30ms/step - loss: 9.4156e-04 - val_loss: 5.9709e-05\n",
      "Epoch 58/100\n",
      "1677/1677 [==============================] - 51s 30ms/step - loss: 9.3318e-04 - val_loss: 1.3994e-04\n",
      "Epoch 59/100\n",
      "1677/1677 [==============================] - 51s 30ms/step - loss: 8.3151e-04 - val_loss: 1.2418e-04\n",
      "Epoch 60/100\n",
      "1677/1677 [==============================] - 51s 30ms/step - loss: 8.3246e-04 - val_loss: 1.6647e-04\n",
      "Epoch 61/100\n",
      "1677/1677 [==============================] - 51s 30ms/step - loss: 8.0077e-04 - val_loss: 9.6388e-05\n",
      "Epoch 62/100\n",
      "1677/1677 [==============================] - 51s 30ms/step - loss: 8.0854e-04 - val_loss: 7.0162e-05\n",
      "Epoch 63/100\n",
      "1677/1677 [==============================] - 52s 31ms/step - loss: 7.2295e-04 - val_loss: 9.6693e-04\n",
      "Epoch 64/100\n",
      "1677/1677 [==============================] - 50s 30ms/step - loss: 7.5794e-04 - val_loss: 1.3091e-04\n",
      "Epoch 65/100\n",
      "1677/1677 [==============================] - 50s 30ms/step - loss: 8.6746e-04 - val_loss: 2.0642e-04\n",
      "Epoch 66/100\n",
      "1677/1677 [==============================] - 50s 30ms/step - loss: 7.2546e-04 - val_loss: 1.8066e-04\n",
      "Epoch 67/100\n",
      "1677/1677 [==============================] - 50s 30ms/step - loss: 6.8021e-04 - val_loss: 2.1113e-04\n",
      "Epoch 68/100\n",
      "1677/1677 [==============================] - 51s 30ms/step - loss: 6.8366e-04 - val_loss: 5.3571e-04\n",
      "Epoch 69/100\n",
      "1677/1677 [==============================] - 50s 30ms/step - loss: 7.7089e-04 - val_loss: 1.1689e-04\n",
      "Epoch 70/100\n",
      "1677/1677 [==============================] - 49s 29ms/step - loss: 6.6489e-04 - val_loss: 8.0290e-05\n",
      "Epoch 71/100\n",
      "1677/1677 [==============================] - 52s 31ms/step - loss: 7.0864e-04 - val_loss: 1.5479e-04\n",
      "Epoch 72/100\n",
      "1677/1677 [==============================] - 51s 30ms/step - loss: 6.7427e-04 - val_loss: 2.4273e-04\n",
      "Epoch 73/100\n",
      "1677/1677 [==============================] - 51s 30ms/step - loss: 6.1101e-04 - val_loss: 5.4388e-05\n",
      "Epoch 74/100\n",
      "1677/1677 [==============================] - 50s 30ms/step - loss: 6.3934e-04 - val_loss: 1.3636e-04\n",
      "Epoch 75/100\n",
      "1677/1677 [==============================] - 52s 31ms/step - loss: 6.9274e-04 - val_loss: 3.7804e-04\n",
      "Epoch 76/100\n",
      "1677/1677 [==============================] - 51s 31ms/step - loss: 6.2497e-04 - val_loss: 6.9843e-05\n",
      "Epoch 77/100\n",
      "1677/1677 [==============================] - 51s 30ms/step - loss: 5.8379e-04 - val_loss: 1.6685e-04\n",
      "Epoch 78/100\n",
      "1677/1677 [==============================] - 50s 30ms/step - loss: 6.1013e-04 - val_loss: 1.9821e-04\n",
      "Epoch 79/100\n",
      "1677/1677 [==============================] - 51s 30ms/step - loss: 5.7739e-04 - val_loss: 5.4136e-05\n",
      "Epoch 80/100\n",
      "1677/1677 [==============================] - 51s 30ms/step - loss: 6.0901e-04 - val_loss: 3.0980e-04\n",
      "Epoch 81/100\n",
      "1677/1677 [==============================] - 50s 30ms/step - loss: 5.5288e-04 - val_loss: 1.5315e-04\n",
      "Epoch 82/100\n",
      "1677/1677 [==============================] - 50s 30ms/step - loss: 6.0090e-04 - val_loss: 5.4192e-05\n",
      "Epoch 83/100\n",
      "1677/1677 [==============================] - 49s 29ms/step - loss: 5.8140e-04 - val_loss: 1.1273e-04\n",
      "Epoch 84/100\n",
      "1677/1677 [==============================] - 50s 30ms/step - loss: 6.0908e-04 - val_loss: 4.3025e-05\n",
      "Epoch 85/100\n",
      "1677/1677 [==============================] - 50s 30ms/step - loss: 5.3733e-04 - val_loss: 3.8966e-05\n",
      "Epoch 86/100\n",
      "1677/1677 [==============================] - 51s 30ms/step - loss: 6.1243e-04 - val_loss: 4.6859e-04\n",
      "Epoch 87/100\n",
      "1677/1677 [==============================] - 50s 30ms/step - loss: 5.3751e-04 - val_loss: 5.1809e-05\n",
      "Epoch 88/100\n",
      "1677/1677 [==============================] - 49s 30ms/step - loss: 5.3672e-04 - val_loss: 9.8211e-05\n",
      "Epoch 89/100\n",
      "1677/1677 [==============================] - 49s 29ms/step - loss: 5.5646e-04 - val_loss: 5.9436e-04\n",
      "Epoch 90/100\n",
      "1677/1677 [==============================] - 49s 29ms/step - loss: 5.7785e-04 - val_loss: 4.7944e-05\n",
      "Epoch 91/100\n",
      "1677/1677 [==============================] - 50s 30ms/step - loss: 5.6364e-04 - val_loss: 3.9926e-05\n",
      "Epoch 92/100\n",
      "1677/1677 [==============================] - 51s 30ms/step - loss: 4.9861e-04 - val_loss: 1.8288e-04\n",
      "Epoch 93/100\n",
      "1677/1677 [==============================] - 52s 31ms/step - loss: 5.6521e-04 - val_loss: 2.0941e-04\n",
      "Epoch 94/100\n",
      "1677/1677 [==============================] - 52s 31ms/step - loss: 5.8647e-04 - val_loss: 5.4789e-05\n",
      "Epoch 95/100\n",
      "1677/1677 [==============================] - 50s 30ms/step - loss: 5.2205e-04 - val_loss: 3.5697e-04\n",
      "Epoch 96/100\n",
      "1677/1677 [==============================] - 50s 30ms/step - loss: 5.1711e-04 - val_loss: 3.6873e-05\n",
      "Epoch 97/100\n",
      "1677/1677 [==============================] - 50s 30ms/step - loss: 6.6067e-04 - val_loss: 3.6968e-05\n",
      "Epoch 98/100\n",
      "1677/1677 [==============================] - 50s 30ms/step - loss: 4.7744e-04 - val_loss: 2.5245e-04\n",
      "Epoch 99/100\n",
      "1677/1677 [==============================] - 52s 31ms/step - loss: 5.4751e-04 - val_loss: 5.0737e-05\n",
      "Epoch 100/100\n",
      "1677/1677 [==============================] - 52s 31ms/step - loss: 5.2114e-04 - val_loss: 0.0011\n"
     ]
    },
    {
     "data": {
      "text/plain": [
       "<keras.callbacks.History at 0x1a23f58cf8>"
      ]
     },
     "execution_count": 16,
     "metadata": {},
     "output_type": "execute_result"
    }
   ],
   "source": [
    "from keras.callbacks import History #, EarlyStopping\n",
    "histories = History()\n",
    "regressor.fit(X_train, y_train, validation_split = 0.3, epochs = 100, batch_size = 32, callbacks = [histories])"
   ]
  },
  {
   "cell_type": "markdown",
   "metadata": {},
   "source": [
    "## Visualising history for loss \n",
    "* The loss decreases as the training process go on, except for some fluctation introduced by the batch gradient descent and/or regularization (dropout) which introduced random noise. "
   ]
  },
  {
   "cell_type": "code",
   "execution_count": 17,
   "metadata": {},
   "outputs": [
    {
     "data": {
      "image/png": "[encoded data removed]",
      "text/plain": [
       "<matplotlib.figure.Figure at 0x1a25681cc0>"
      ]
     },
     "metadata": {},
     "output_type": "display_data"
    }
   ],
   "source": [
    "plt.plot(histories.history['loss'])\n",
    "plt.plot(histories.history['val_loss'])\n",
    "plt.title('model loss')\n",
    "plt.ylabel('loss')\n",
    "plt.xlabel('epoch')\n",
    "plt.legend(['train', 'test(validation)'], loc='upper right')\n",
    "plt.show()"
   ]
  },
  {
   "cell_type": "markdown",
   "metadata": {},
   "source": [
    "## Making the predictions "
   ]
  },
  {
   "cell_type": "code",
   "execution_count": 18,
   "metadata": {
    "collapsed": true,
    "scrolled": false
   },
   "outputs": [],
   "source": [
    "predicted_stock_price = regressor.predict(X_test)\n",
    "predicted_stock_price = sc.inverse_transform(predicted_stock_price)"
   ]
  },
  {
   "cell_type": "markdown",
   "metadata": {},
   "source": [
    "## Visualising the results"
   ]
  },
  {
   "cell_type": "code",
   "execution_count": 23,
   "metadata": {
    "scrolled": false
   },
   "outputs": [
    {
     "data": {
      "image/png": "[encoded data removed]",
      "text/plain": [
       "<matplotlib.figure.Figure at 0x10e06eb00>"
      ]
     },
     "metadata": {},
     "output_type": "display_data"
    }
   ],
   "source": [
    "plt.plot(real_stock_price, color = 'red', label = 'Real Apple Inc. Stock Price')\n",
    "plt.plot(predicted_stock_price, color = 'blue', label = 'Predicted Apple Inc. Price')\n",
    "plt.title('Apple Inc. Stock Price Prediction')\n",
    "plt.xlabel('Time')\n",
    "plt.ylabel('Apple Inc. Stock Price')\n",
    "plt.legend()\n",
    "plt.tight_layout()\n",
    "plt.savefig('timesteps_{}.png'.format(timesteps))\n",
    "plt.show()"
   ]
  },
  {
   "cell_type": "markdown",
   "metadata": {},
   "source": [
    "## Model performance and Parameters Tuning\n",
    "The following strategy will be used to improve the models: \n",
    "* Increase timesteps \n",
    "* Add more LSTM layers\n",
    "* Increase number of neurons in each LSTM layer \n",
    "* Add stock prices of correlated companies with Apple Inc. as a new indicator in the training set"
   ]
  },
  {
   "cell_type": "code",
   "execution_count": 20,
   "metadata": {},
   "outputs": [
    {
     "data": {
      "text/plain": [
       "45.196020491379024"
      ]
     },
     "execution_count": 20,
     "metadata": {},
     "output_type": "execute_result"
    }
   ],
   "source": [
    "import math\n",
    "from sklearn.metrics import mean_squared_error\n",
    "rmse = math.sqrt(mean_squared_error(real_stock_price, predicted_stock_price))\n",
    "rmse"
   ]
  },
  {
   "cell_type": "markdown",
   "metadata": {},
   "source": [
    "## Parameters Tuning: Log \n",
    "The following parameters have been experimented thus far. \n",
    "* 48.218127741254314 = 60 timesteps\n",
    "* 45.196020491379024 = 120 timesteps"
   ]
  },
  {
   "cell_type": "code",
   "execution_count": 24,
   "metadata": {},
   "outputs": [
    {
     "data": {
      "image/png": "[encoded data removed]",
      "text/plain": [
       "<IPython.core.display.Image object>"
      ]
     },
     "execution_count": 24,
     "metadata": {},
     "output_type": "execute_result"
    }
   ],
   "source": [
    "from IPython.display import Image\n",
    "Image(filename='timesteps_60.png') "
   ]
  },
  {
   "cell_type": "code",
   "execution_count": 25,
   "metadata": {},
   "outputs": [
    {
     "data": {
      "image/png": "[encoded data removed]",
      "text/plain": [
       "<IPython.core.display.Image object>"
      ]
     },
     "execution_count": 25,
     "metadata": {},
     "output_type": "execute_result"
    }
   ],
   "source": [
    "from IPython.display import Image\n",
    "Image(filename='timesteps_120.png') "
   ]
  },
  {
   "cell_type": "code",
   "execution_count": null,
   "metadata": {
    "collapsed": true
   },
   "outputs": [],
   "source": []
  }
 ],
 "metadata": {
  "kernelspec": {
   "display_name": "Python 3",
   "language": "python",
   "name": "python3"
  },
  "language_info": {
   "codemirror_mode": {
    "name": "ipython",
    "version": 3
   },
   "file_extension": ".py",
   "mimetype": "text/x-python",
   "name": "python",
   "nbconvert_exporter": "python",
   "pygments_lexer": "ipython3",
   "version": "3.5.4"
  }
 },
 "nbformat": 4,
 "nbformat_minor": 2
}
