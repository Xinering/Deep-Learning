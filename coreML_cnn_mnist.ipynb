{
 "cells": [
  {
   "cell_type": "markdown",
   "metadata": {},
   "source": [
    "# Convolutional Neutral Network \n",
    "## Objectives: \n",
    "Building Convolutional Neutral Networks (CNN) to: \n",
    "* Learn and train based on the matrix of features by building convolutional neutral network layers \n",
    "* Use feature detectors (filters - e.g., sharpen, blur, edge detect) to find features in the images by convolving with input images to build feature maps\n",
    "* Apply ReLu (Rectifier linear Unit) to break up non-linearity (images are highly non-linear)\n",
    "* Apply MaxPooling to complete downsampling the feature maps to form Pooled Feature Maps\n",
    "* Flattening the Pooled Feature Maps which forms the input layer\n",
    "* Apply stochastic gradient descent to minimise the lose function\n",
    "* Complete backpropagation to adjusts the weights \n",
    "* Complete parameter tuning if necessary \n",
    "\n",
    "## Steps: \n",
    "1) Visualise the dataset, transform the image and label data to be the correct dimensions (shape) and complete normalisation ready for CNN\n",
    "\n",
    "2) Initialise CNN\n",
    "    \n",
    "3) Add first CNN layer with input shape of 28x28 pixels as our sample size, creating 32 feature maps using a feature detector with a kernel size of 3x3 matrix.\n",
    "\n",
    "4) Add second CNN layer to improve model's accuracy \n",
    "  \n",
    "5) Complete MaxPooling, Regularization and Flattening \n",
    "\n",
    "6) Add output layer with 10 nodes (for classifying digit 0 to 9), using the softmax activation function. \n",
    "\n",
    "6) Apply stochastic gradient descent to achieve a set of optimal weights\n",
    "\n",
    "7) Evaluate the model, visualise the analysis results\n",
    "\n",
    "Scenario: To build a classification model for a digit recongition system\n",
    "\n",
    "### Dataset: \n",
    "\n",
    "MNIST: http://yann.lecun.com/exdb/mnist/\n",
    "\n",
    "The MNIST database of handwritten digits, available from the link above, has a training set of 60,000 examples, and a test set of 10,000 examples. It is a subset of a larger set available from NIST. The digits have been size-normalized and centered in a fixed-size image.        "
   ]
  },
  {
   "cell_type": "code",
   "execution_count": 1,
   "metadata": {},
   "outputs": [
    {
     "name": "stderr",
     "output_type": "stream",
     "text": [
      "/Users/jasminelatham/anaconda/envs/py35/lib/python3.5/site-packages/h5py/__init__.py:34: FutureWarning: Conversion of the second argument of issubdtype from `float` to `np.floating` is deprecated. In future, it will be treated as `np.float64 == np.dtype(float).type`.\n",
      "  from ._conv import register_converters as _register_converters\n"
     ]
    }
   ],
   "source": [
    "import numpy as np\n",
    "np.random.seed(123)  # for reproducible results\n",
    "from scipy import misc\n",
    "import tensorflow as tf\n",
    "import h5py\n",
    "import matplotlib.pyplot as plt\n",
    "%matplotlib inline"
   ]
  },
  {
   "cell_type": "code",
   "execution_count": 2,
   "metadata": {},
   "outputs": [
    {
     "name": "stderr",
     "output_type": "stream",
     "text": [
      "Using TensorFlow backend.\n"
     ]
    }
   ],
   "source": [
    "#import mnist dataset\n",
    "import keras\n",
    "from keras.datasets import mnist\n",
    "from keras.utils import np_utils"
   ]
  },
  {
   "cell_type": "code",
   "execution_count": 3,
   "metadata": {
    "collapsed": true
   },
   "outputs": [],
   "source": [
    "#import keras libraries\n",
    "from keras.models import Sequential #feedforward CNN\n",
    "from keras.layers import Dense, Dropout, Activation, Flatten #core layers\n",
    "from keras.layers import Convolution2D, MaxPooling2D #CNN layers"
   ]
  },
  {
   "cell_type": "code",
   "execution_count": 4,
   "metadata": {},
   "outputs": [
    {
     "name": "stdout",
     "output_type": "stream",
     "text": [
      "keras version  2.1.3\n"
     ]
    }
   ],
   "source": [
    "import coremltools\n",
    "# coremltools supports Keras version 2.0.6\n",
    "print('keras version ', keras.__version__)"
   ]
  },
  {
   "cell_type": "code",
   "execution_count": 5,
   "metadata": {
    "collapsed": true
   },
   "outputs": [],
   "source": [
    "#Setting variables for MNIST image dimensions\n",
    "mnist_image_height = 28\n",
    "mnist_image_width = 28"
   ]
  },
  {
   "cell_type": "code",
   "execution_count": 6,
   "metadata": {
    "collapsed": true
   },
   "outputs": [],
   "source": [
    "#Import train and test sets of MNIST data\n",
    "(X_img_train, y_img_train), (X_img_test, y_img_test) = mnist.load_data()"
   ]
  },
  {
   "cell_type": "code",
   "execution_count": 7,
   "metadata": {
    "scrolled": true
   },
   "outputs": [
    {
     "name": "stdout",
     "output_type": "stream",
     "text": [
      "Shape of training dataset (depth,rows,columns): (60000, 28, 28)\n",
      "Shape of test dataset (depth,rows,columns): (10000, 28, 28)\n"
     ]
    }
   ],
   "source": [
    "#Inspect the downloaded data\n",
    "print(\"Shape of training dataset (depth,rows,columns): {}\".format((X_img_train.shape)))\n",
    "print(\"Shape of test dataset (depth,rows,columns): {}\".format((X_img_test.shape)))"
   ]
  },
  {
   "cell_type": "markdown",
   "metadata": {},
   "source": [
    "## Visualise one image"
   ]
  },
  {
   "cell_type": "code",
   "execution_count": 8,
   "metadata": {},
   "outputs": [
    {
     "name": "stdout",
     "output_type": "stream",
     "text": [
      "Label for image: 0\n"
     ]
    },
    {
     "data": {
      "image/png": "[encoded data removed]",
      "text/plain": [
       "<matplotlib.figure.Figure at 0x1a21e7ba20>"
      ]
     },
     "metadata": {},
     "output_type": "display_data"
    }
   ],
   "source": [
    "plt.figure()\n",
    "plt.imshow(X_img_train[1], cmap='gray')\n",
    "print(\"Label for image: {}\".format(y_img_train[1]))"
   ]
  },
  {
   "cell_type": "markdown",
   "metadata": {},
   "source": [
    "## Visualise the first digit class"
   ]
  },
  {
   "cell_type": "code",
   "execution_count": 9,
   "metadata": {
    "scrolled": true
   },
   "outputs": [
    {
     "data": {
      "image/png": "[encoded data removed]",
      "text/plain": [
       "<matplotlib.figure.Figure at 0x1a253a92e8>"
      ]
     },
     "metadata": {},
     "output_type": "display_data"
    }
   ],
   "source": [
    "fig, ax = plt.subplots(nrows=2, ncols=5, sharex=True, sharey=True, figsize=(10,4))\n",
    "ax = ax.flatten()\n",
    "for i in range(10):\n",
    "    img = X_img_train[y_img_train == i][0].reshape(28, 28)\n",
    "    ax[i].imshow(img, cmap='Greys', interpolation='nearest')\n",
    "ax[0].set_xticks([])\n",
    "ax[0].set_yticks([])\n",
    "plt.tight_layout()\n",
    "plt.show()"
   ]
  },
  {
   "cell_type": "markdown",
   "metadata": {},
   "source": [
    "## Visualise 30 different versions of a digit"
   ]
  },
  {
   "cell_type": "code",
   "execution_count": 10,
   "metadata": {
    "scrolled": true
   },
   "outputs": [
    {
     "data": {
      "image/png": "[encoded data removed]",
      "text/plain": [
       "<matplotlib.figure.Figure at 0x1a255310b8>"
      ]
     },
     "metadata": {},
     "output_type": "display_data"
    }
   ],
   "source": [
    "fig, ax = plt.subplots(nrows=5, ncols=6, sharex=True, sharey=True, figsize=(10,5))\n",
    "ax = ax.flatten()\n",
    "for i in range(30):\n",
    "    img = X_img_train[y_img_train == 7][i].reshape(28, 28)\n",
    "    ax[i].imshow(img, cmap='Greys', interpolation='nearest')\n",
    "ax[0].set_xticks([])\n",
    "ax[0].set_yticks([])\n",
    "plt.tight_layout()\n",
    "plt.show()"
   ]
  },
  {
   "cell_type": "markdown",
   "metadata": {},
   "source": [
    "## Preprocess input images\n",
    "* Theano backend requires RGB to be explictly stated, i.e., Greyscale = 1, colour = 3 \n",
    "* First, Reshape the input data (depth, rows, height) to (depth, rows, height, Greyscale)"
   ]
  },
  {
   "cell_type": "code",
   "execution_count": 11,
   "metadata": {
    "collapsed": true
   },
   "outputs": [],
   "source": [
    "X_train = X_img_train.reshape(X_img_train.shape[0], 28, 28, 1)\n",
    "X_test = X_img_test.reshape(X_img_test.shape[0], 28, 28, 1)"
   ]
  },
  {
   "cell_type": "code",
   "execution_count": 12,
   "metadata": {
    "collapsed": true
   },
   "outputs": [],
   "source": [
    "#Transform data type to float32, and normalise values to the range [0,1]\n",
    "X_train = X_train.astype('float32')\n",
    "X_test = X_test.astype('float32')\n",
    "X_train /= 255\n",
    "X_test /= 255"
   ]
  },
  {
   "cell_type": "markdown",
   "metadata": {},
   "source": [
    "## Preprocess image labels"
   ]
  },
  {
   "cell_type": "code",
   "execution_count": 13,
   "metadata": {},
   "outputs": [
    {
     "name": "stdout",
     "output_type": "stream",
     "text": [
      "(60000,)\n"
     ]
    }
   ],
   "source": [
    "# inspect y_train: it is a 1-D array\n",
    "print(y_img_train.shape)"
   ]
  },
  {
   "cell_type": "markdown",
   "metadata": {},
   "source": [
    "### Inspecting the first 10 labels. We can see the digit numerical values not the digit labels"
   ]
  },
  {
   "cell_type": "code",
   "execution_count": 14,
   "metadata": {
    "scrolled": true
   },
   "outputs": [
    {
     "name": "stdout",
     "output_type": "stream",
     "text": [
      "[5 0 4 1 9 2 1 3 1 4]\n"
     ]
    }
   ],
   "source": [
    "print (y_img_train[:10])"
   ]
  },
  {
   "cell_type": "markdown",
   "metadata": {},
   "source": [
    "### Transforming 1-D array of digit values to 10-D matrices of categorical digit labels"
   ]
  },
  {
   "cell_type": "code",
   "execution_count": 15,
   "metadata": {
    "collapsed": true
   },
   "outputs": [],
   "source": [
    "Y_train = np_utils.to_categorical(y_img_train, 10)\n",
    "Y_test = np_utils.to_categorical(y_img_test, 10)"
   ]
  },
  {
   "cell_type": "markdown",
   "metadata": {},
   "source": [
    "### Inspect the shape, ensure it is in the correct form"
   ]
  },
  {
   "cell_type": "code",
   "execution_count": 16,
   "metadata": {},
   "outputs": [
    {
     "name": "stdout",
     "output_type": "stream",
     "text": [
      "(60000, 10)\n"
     ]
    }
   ],
   "source": [
    "print(Y_train.shape)"
   ]
  },
  {
   "cell_type": "markdown",
   "metadata": {},
   "source": [
    "## Initialising the CNN as sequence of layers"
   ]
  },
  {
   "cell_type": "code",
   "execution_count": 17,
   "metadata": {
    "collapsed": true
   },
   "outputs": [],
   "source": [
    "model = Sequential()"
   ]
  },
  {
   "cell_type": "markdown",
   "metadata": {},
   "source": [
    "## Adding the first convolution layer \n",
    "* Convolution (maintain the spatial structure)\n",
    "* Apply ReLu (Rectifier linear Unit) to break up non-linearity (images are highly non-linear)\n",
    "* filters: number of filters is equalled to the number of feature maps we want to create, in this example, we create 32 x feature maps\n",
    "* kernel_size: no. of rows and columns for the feature dectector, in this example, we create 3x3 matrix as our feature detector\n",
    "* input_shape: convert input images into 2D or 3D array, in this example, our input images are greyscale images, so we convert to 2D array of 28 pixels by 28 pixels \n",
    "* for 3D images, then we set to 3 instead of 1 to create 3D array"
   ]
  },
  {
   "cell_type": "code",
   "execution_count": 18,
   "metadata": {},
   "outputs": [
    {
     "name": "stdout",
     "output_type": "stream",
     "text": [
      "(None, 26, 26, 32)\n"
     ]
    }
   ],
   "source": [
    "model.add(Convolution2D(32, (3, 3), activation='relu', input_shape=(28,28,1))) # (rows,columns,greyscale)\n",
    "\n",
    "# Inspect the shape of the model \n",
    "print(model.output_shape)"
   ]
  },
  {
   "cell_type": "markdown",
   "metadata": {},
   "source": [
    "## Adding the second convolution layer\n",
    "* Apply MaxPooling to complete downsampling the feature maps to form Pooled Feature Maps. \n",
    "* Reducing the number of parameters in our model by sliding a 2x2 pooling filter across the previous layer. \n",
    "* pool_size: halve the input in both spatial dimension\n",
    "* Flattening the Pooled Feature Maps which forms the input layer"
   ]
  },
  {
   "cell_type": "code",
   "execution_count": 19,
   "metadata": {
    "collapsed": true
   },
   "outputs": [],
   "source": [
    "model.add(Convolution2D(32, (3, 3), activation='relu'))\n",
    "model.add(MaxPooling2D(pool_size=(2,2))) \n",
    "model.add(Dropout(0.25)) #Regularizing the model to prevent overfitting\n",
    "model.add(Flatten())#Flattening"
   ]
  },
  {
   "cell_type": "markdown",
   "metadata": {},
   "source": [
    "## Fully connected the layers\n",
    "* connect the input layer, 128 is the total number of o/p nodes for that layer, common practice is 128 or 2^(x) for hidden layers\n",
    "* Add output layer with 10 nodes (for classifying digit 0 to 9), using the softmax activation function. "
   ]
  },
  {
   "cell_type": "code",
   "execution_count": 20,
   "metadata": {},
   "outputs": [
    {
     "name": "stdout",
     "output_type": "stream",
     "text": [
      "_________________________________________________________________\n",
      "Layer (type)                 Output Shape              Param #   \n",
      "=================================================================\n",
      "conv2d_1 (Conv2D)            (None, 26, 26, 32)        320       \n",
      "_________________________________________________________________\n",
      "conv2d_2 (Conv2D)            (None, 24, 24, 32)        9248      \n",
      "_________________________________________________________________\n",
      "max_pooling2d_1 (MaxPooling2 (None, 12, 12, 32)        0         \n",
      "_________________________________________________________________\n",
      "dropout_1 (Dropout)          (None, 12, 12, 32)        0         \n",
      "_________________________________________________________________\n",
      "flatten_1 (Flatten)          (None, 4608)              0         \n",
      "_________________________________________________________________\n",
      "dense_1 (Dense)              (None, 128)               589952    \n",
      "_________________________________________________________________\n",
      "dropout_2 (Dropout)          (None, 128)               0         \n",
      "_________________________________________________________________\n",
      "dense_2 (Dense)              (None, 10)                1290      \n",
      "=================================================================\n",
      "Total params: 600,810\n",
      "Trainable params: 600,810\n",
      "Non-trainable params: 0\n",
      "_________________________________________________________________\n",
      "None\n"
     ]
    }
   ],
   "source": [
    "model.add(Dense(128, activation='relu'))   \n",
    "model.add(Dropout(0.5))\n",
    "model.add(Dense(10, activation='softmax')) #connect the output layer, 10 = 0 to 9 digits\n",
    "print(model.summary())"
   ]
  },
  {
   "cell_type": "markdown",
   "metadata": {},
   "source": [
    "## Applying Stochastic Gradient Descent\n",
    "* Adam is a variant of SGD for its effeciency and the coresponding loss function to be optimsed in order to achieve a set of optimal weights of the CNN. \n",
    "* The loss function for adam SGD is Logarithmic Loss. \n",
    "* For a binary classification outcome, the loss = binary_crossentropy. \n",
    "* For a categorical outcome, the loss = categorical_crossentrophy. \n",
    "* During each Epoch (observations) training, after all weights have been updated, accuracy metric is used to improve the model. "
   ]
  },
  {
   "cell_type": "code",
   "execution_count": 21,
   "metadata": {
    "collapsed": true
   },
   "outputs": [],
   "source": [
    "model.compile(optimizer = 'adam',loss='categorical_crossentropy', metrics=['accuracy'])"
   ]
  },
  {
   "cell_type": "code",
   "execution_count": 22,
   "metadata": {
    "collapsed": true,
    "scrolled": true
   },
   "outputs": [],
   "source": [
    "#Callback\n",
    "histories = keras.callbacks.History()\n",
    "#from keras.callbacks import History\n",
    "#histories = History()\n",
    "\n",
    "callbacks_list = [\n",
    "    keras.callbacks.ModelCheckpoint(\n",
    "        filepath='best_model.{epoch:02d}-{val_loss:.2f}.h5',\n",
    "        monitor='val_loss', save_best_only=True),\n",
    "    keras.callbacks.EarlyStopping(monitor='acc', patience=2), \n",
    "    histories\n",
    "]"
   ]
  },
  {
   "cell_type": "code",
   "execution_count": 23,
   "metadata": {
    "scrolled": true
   },
   "outputs": [
    {
     "name": "stdout",
     "output_type": "stream",
     "text": [
      "Train on 60000 samples, validate on 10000 samples\n",
      "Epoch 1/10\n",
      "60000/60000 [==============================] - 69s 1ms/step - loss: 0.2102 - acc: 0.9363 - val_loss: 0.0438 - val_acc: 0.9847\n",
      "Epoch 2/10\n",
      "60000/60000 [==============================] - 65s 1ms/step - loss: 0.0899 - acc: 0.9731 - val_loss: 0.0367 - val_acc: 0.9875\n",
      "Epoch 3/10\n",
      "60000/60000 [==============================] - 65s 1ms/step - loss: 0.0671 - acc: 0.9797 - val_loss: 0.0351 - val_acc: 0.9883\n",
      "Epoch 4/10\n",
      "60000/60000 [==============================] - 66s 1ms/step - loss: 0.0568 - acc: 0.9826 - val_loss: 0.0323 - val_acc: 0.9902ss: - ETA: 1s - loss: 0.0569 - acc: 0. - ETA: 0s - loss: 0.0569\n",
      "Epoch 5/10\n",
      "60000/60000 [==============================] - 66s 1ms/step - loss: 0.0484 - acc: 0.9857 - val_loss: 0.0315 - val_acc: 0.9903\n",
      "Epoch 6/10\n",
      "60000/60000 [==============================] - 66s 1ms/step - loss: 0.0411 - acc: 0.9870 - val_loss: 0.0310 - val_acc: 0.9902\n",
      "Epoch 7/10\n",
      "60000/60000 [==============================] - 66s 1ms/step - loss: 0.0377 - acc: 0.9878 - val_loss: 0.0326 - val_acc: 0.9902\n",
      "Epoch 8/10\n",
      "60000/60000 [==============================] - 66s 1ms/step - loss: 0.0352 - acc: 0.9889 - val_loss: 0.0312 - val_acc: 0.9911\n",
      "Epoch 9/10\n",
      "60000/60000 [==============================] - 66s 1ms/step - loss: 0.0317 - acc: 0.9898 - val_loss: 0.0269 - val_acc: 0.9927\n",
      "Epoch 10/10\n",
      "60000/60000 [==============================] - 66s 1ms/step - loss: 0.0296 - acc: 0.9910 - val_loss: 0.0296 - val_acc: 0.9918\n"
     ]
    },
    {
     "data": {
      "text/plain": [
       "<keras.callbacks.History at 0x1a34142048>"
      ]
     },
     "execution_count": 23,
     "metadata": {},
     "output_type": "execute_result"
    }
   ],
   "source": [
    "#FItting the CNN to the Training set \n",
    "### Run a batch size of 32 observations before all the weights are updated. \n",
    "model.fit(X_train, Y_train, batch_size=32, epochs=10, verbose=1, validation_data = (X_test, Y_test), callbacks = callbacks_list)"
   ]
  },
  {
   "cell_type": "markdown",
   "metadata": {},
   "source": [
    "## Evaluating the model "
   ]
  },
  {
   "cell_type": "code",
   "execution_count": 24,
   "metadata": {},
   "outputs": [
    {
     "name": "stdout",
     "output_type": "stream",
     "text": [
      "\n",
      "The loss function of the test set is: 0.0296\n",
      "The acc of the test set is: 99.180%\n",
      "\n",
      "The loss function of the training set is: 0.0062\n",
      "The acc of the training set is: 99.813%\n"
     ]
    }
   ],
   "source": [
    "score = model.evaluate(X_test, Y_test, verbose=0)\n",
    "print('\\nThe {0} function of the test set is: {1:0.3}'.format(model.metrics_names[0],score[0]))\n",
    "print('The {0} of the test set is: {1:0.3%}'.format(model.metrics_names[1],score[1]))\n",
    "score = model.evaluate(X_train, Y_train, verbose=0)\n",
    "print('\\nThe {0} function of the training set is: {1:0.3}'.format(model.metrics_names[0],score[0]))\n",
    "print('The {0} of the training set is: {1:0.3%}'.format(model.metrics_names[1],score[1]))"
   ]
  },
  {
   "cell_type": "code",
   "execution_count": 25,
   "metadata": {
    "scrolled": true
   },
   "outputs": [
    {
     "name": "stdout",
     "output_type": "stream",
     "text": [
      "dict_keys(['loss', 'val_acc', 'acc', 'val_loss'])\n"
     ]
    }
   ],
   "source": [
    "print(histories.history.keys())"
   ]
  },
  {
   "cell_type": "code",
   "execution_count": 26,
   "metadata": {
    "scrolled": false
   },
   "outputs": [
    {
     "data": {
      "image/png": "[encoded data removed]",
      "text/plain": [
       "<matplotlib.figure.Figure at 0x1a347d8940>"
      ]
     },
     "metadata": {},
     "output_type": "display_data"
    }
   ],
   "source": [
    "# summarize history for accuracy\n",
    "plt.plot(histories.history['acc'])\n",
    "plt.plot(histories.history['val_acc'])\n",
    "plt.title('model accuracy')\n",
    "plt.ylabel('accuracy')\n",
    "plt.xlabel('epoch')\n",
    "plt.legend(['train', 'test(validation)'], loc='lower right')\n",
    "plt.show()"
   ]
  },
  {
   "cell_type": "code",
   "execution_count": 27,
   "metadata": {
    "scrolled": true
   },
   "outputs": [
    {
     "data": {
      "image/png": "[encoded data removed]",
      "text/plain": [
       "<matplotlib.figure.Figure at 0x1a347eea58>"
      ]
     },
     "metadata": {},
     "output_type": "display_data"
    }
   ],
   "source": [
    "# summarize history for loss\n",
    "plt.plot(histories.history['loss'])\n",
    "plt.plot(histories.history['val_loss'])\n",
    "plt.title('model loss')\n",
    "plt.ylabel('loss')\n",
    "plt.xlabel('epoch')\n",
    "plt.legend(['train', 'test(validation)'], loc='upper right')\n",
    "plt.show()"
   ]
  },
  {
   "cell_type": "markdown",
   "metadata": {},
   "source": [
    "## Making the predictions and visualising the results\n",
    "* Showing a sample of 36 test images and the corresponding results\n",
    "* T:   Ground Truth\n",
    "* P:   Predicted Result"
   ]
  },
  {
   "cell_type": "code",
   "execution_count": 28,
   "metadata": {
    "collapsed": true
   },
   "outputs": [],
   "source": [
    "# Step 9 - CNN Model Prediction  \n",
    "y_pred = model.predict(X_test)"
   ]
  },
  {
   "cell_type": "code",
   "execution_count": 29,
   "metadata": {
    "scrolled": true
   },
   "outputs": [
    {
     "data": {
      "image/png": "[encoded data removed]",
      "text/plain": [
       "<matplotlib.figure.Figure at 0x10f8ec908>"
      ]
     },
     "metadata": {},
     "output_type": "display_data"
    }
   ],
   "source": [
    "miscl_img = X_test[y_img_test != np.argmax(y_pred)][10:46]\n",
    "actual_labels = y_img_test[y_img_test != np.argmax(y_pred)][10:46]\n",
    "predicted_labels = y_pred[y_img_test != np.argmax(y_pred)][10:46]\n",
    "\n",
    "fig, ax = plt.subplots(nrows=6, ncols=6, sharex=True, sharey=True, figsize=(13,7))\n",
    "ax = ax.flatten()\n",
    "for i in range (36):\n",
    "    img = miscl_img[i].reshape(28, 28)\n",
    "    ax[i].imshow(img, cmap='Greys', interpolation='nearest')\n",
    "    ax[i].set_title('{}) T: {}   P: {}' .format(i+1, actual_labels[i], np.argmax(predicted_labels[i])))\n",
    "ax[0].set_xticks([])\n",
    "ax[0].set_yticks([])\n",
    "plt.tight_layout()\n",
    "plt.show()"
   ]
  },
  {
   "cell_type": "markdown",
   "metadata": {
    "collapsed": true
   },
   "source": [
    "## Convert to Core ML Model"
   ]
  },
  {
   "cell_type": "code",
   "execution_count": 31,
   "metadata": {},
   "outputs": [
    {
     "name": "stdout",
     "output_type": "stream",
     "text": [
      "0 : conv2d_1_input, <keras.engine.topology.InputLayer object at 0x1a3458f940>\n",
      "1 : conv2d_1, <keras.layers.convolutional.Conv2D object at 0x1a3458f748>\n",
      "2 : conv2d_1__activation__, <keras.layers.core.Activation object at 0x1a3583ed68>\n",
      "3 : conv2d_2, <keras.layers.convolutional.Conv2D object at 0x1a34615470>\n",
      "4 : conv2d_2__activation__, <keras.layers.core.Activation object at 0x1a3583eba8>\n",
      "5 : max_pooling2d_1, <keras.layers.pooling.MaxPooling2D object at 0x1a34588518>\n",
      "6 : flatten_1, <keras.layers.core.Flatten object at 0x1a3458f9b0>\n",
      "7 : dense_1, <keras.layers.core.Dense object at 0x1a34544630>\n",
      "8 : dense_1__activation__, <keras.layers.core.Activation object at 0x1a357efef0>\n",
      "9 : dense_2, <keras.layers.core.Dense object at 0x1a345600b8>\n",
      "10 : dense_2__activation__, <keras.layers.core.Activation object at 0x1a35892d30>\n"
     ]
    }
   ],
   "source": [
    "output_labels = ['0', '1', '2', '3', '4', '5', '6', '7', '8', '9']\n",
    "# For the first argument, use the filename of the newest .h5 file in the notebook folder.\n",
    "coreml_mnist = coremltools.converters.keras.convert(\n",
    "    'best_model.09-0.03.h5', input_names=['image'], output_names=['output'], \n",
    "    class_labels=output_labels, image_input_names='image')"
   ]
  },
  {
   "cell_type": "markdown",
   "metadata": {},
   "source": [
    "### Inspect Core ML model\n",
    "\n",
    "Check the input type is `imageType`, not multi array"
   ]
  },
  {
   "cell_type": "code",
   "execution_count": 33,
   "metadata": {},
   "outputs": [
    {
     "name": "stdout",
     "output_type": "stream",
     "text": [
      "input {\n",
      "  name: \"image\"\n",
      "  type {\n",
      "    imageType {\n",
      "      width: 28\n",
      "      height: 28\n",
      "      colorSpace: GRAYSCALE\n",
      "    }\n",
      "  }\n",
      "}\n",
      "output {\n",
      "  name: \"output\"\n",
      "  type {\n",
      "    dictionaryType {\n",
      "      stringKeyType {\n",
      "      }\n",
      "    }\n",
      "  }\n",
      "}\n",
      "output {\n",
      "  name: \"classLabel\"\n",
      "  type {\n",
      "    stringType {\n",
      "    }\n",
      "  }\n",
      "}\n",
      "predictedFeatureName: \"classLabel\"\n",
      "predictedProbabilitiesName: \"output\"\n",
      "\n"
     ]
    }
   ],
   "source": [
    "print(coreml_mnist)"
   ]
  },
  {
   "cell_type": "markdown",
   "metadata": {},
   "source": [
    "### Add Metadata for Xcode"
   ]
  },
  {
   "cell_type": "code",
   "execution_count": 34,
   "metadata": {
    "collapsed": true
   },
   "outputs": [],
   "source": [
    "coreml_mnist.author = 'jasminelatham'\n",
    "coreml_mnist.license = 'JasmineLatham'\n",
    "coreml_mnist.short_description = 'Image based digit recognition (MNIST)'\n",
    "coreml_mnist.input_description['image'] = 'Digit image'\n",
    "coreml_mnist.output_description['output'] = 'Probability of each digit'\n",
    "coreml_mnist.output_description['classLabel'] = 'Labels of digits'"
   ]
  },
  {
   "cell_type": "code",
   "execution_count": 35,
   "metadata": {
    "collapsed": true
   },
   "outputs": [],
   "source": [
    "coreml_mnist.save('MNISTClassifier.mlmodel')"
   ]
  },
  {
   "cell_type": "code",
   "execution_count": null,
   "metadata": {
    "collapsed": true
   },
   "outputs": [],
   "source": []
  }
 ],
 "metadata": {
  "kernelspec": {
   "display_name": "Python 3",
   "language": "python",
   "name": "python3"
  },
  "language_info": {
   "codemirror_mode": {
    "name": "ipython",
    "version": 3
   },
   "file_extension": ".py",
   "mimetype": "text/x-python",
   "name": "python",
   "nbconvert_exporter": "python",
   "pygments_lexer": "ipython3",
   "version": "3.5.4"
  }
 },
 "nbformat": 4,
 "nbformat_minor": 2
}
