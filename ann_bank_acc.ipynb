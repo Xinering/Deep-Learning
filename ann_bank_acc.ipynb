{
 "cells": [
  {
   "cell_type": "markdown",
   "metadata": {},
   "source": [
    "# Artifical Neutral Network \n",
    "## Objectives: \n",
    "Using Artifical Neutral Network (ANN) to: \n",
    "* learn and train based on the matrix of features by building neutral network layers \n",
    "* apply stochastic gradient descent to minimise the lose function\n",
    "* complete backpropagation to adjusts the weights \n",
    "* complete parameter tuning if necessary \n",
    "\n",
    "## Steps: \n",
    "1) Visualise the dataset, categorical encoding and feature scaling\n",
    "\n",
    "2) Initialise ANN\n",
    "    \n",
    "3) Add first layer with the  11 input nodes and 6 hidden nodes,, set activation function \n",
    "\n",
    "4) Add second hidden layer to improve model's accuracy \n",
    "  \n",
    "5) Add output layer in the form of perceptron and a sigmoid function\n",
    "\n",
    "6) Apply stochastic gradient descent to achieve a set of optimal weights\n",
    "\n",
    "7) Evaluate the model, visualise the analysis results\n",
    "\n",
    "Scenario: To build a predictive model for a bank to predict whether the customers will close the bank account or not.\n",
    "\n",
    "### Dataset: \n",
    "\n",
    "Customers_Bank_Accounts: info on customers' bank accounts\n",
    "\n",
    "Matrix of Features: 10,001 x 14"
   ]
  },
  {
   "cell_type": "code",
   "execution_count": 1,
   "metadata": {
    "collapsed": true
   },
   "outputs": [],
   "source": [
    "#import libraries\n",
    "import numpy as np\n",
    "import matplotlib.pyplot as plt\n",
    "import pandas as pd\n",
    "%matplotlib inline"
   ]
  },
  {
   "cell_type": "code",
   "execution_count": 2,
   "metadata": {
    "collapsed": true
   },
   "outputs": [],
   "source": [
    "df = pd.read_csv('Customers_Bank_Accounts.csv')"
   ]
  },
  {
   "cell_type": "code",
   "execution_count": 3,
   "metadata": {
    "scrolled": true
   },
   "outputs": [
    {
     "data": {
      "text/html": [
       "<div>\n",
       "<style>\n",
       "    .dataframe thead tr:only-child th {\n",
       "        text-align: right;\n",
       "    }\n",
       "\n",
       "    .dataframe thead th {\n",
       "        text-align: left;\n",
       "    }\n",
       "\n",
       "    .dataframe tbody tr th {\n",
       "        vertical-align: top;\n",
       "    }\n",
       "</style>\n",
       "<table border=\"1\" class=\"dataframe\">\n",
       "  <thead>\n",
       "    <tr style=\"text-align: right;\">\n",
       "      <th></th>\n",
       "      <th>RowNumber</th>\n",
       "      <th>CustomerId</th>\n",
       "      <th>Surname</th>\n",
       "      <th>CreditScore</th>\n",
       "      <th>Geography</th>\n",
       "      <th>Gender</th>\n",
       "      <th>Age</th>\n",
       "      <th>Tenure</th>\n",
       "      <th>Balance</th>\n",
       "      <th>NumOfProducts</th>\n",
       "      <th>HasCrCard</th>\n",
       "      <th>IsActiveMember</th>\n",
       "      <th>EstimatedSalary</th>\n",
       "      <th>Exited</th>\n",
       "    </tr>\n",
       "  </thead>\n",
       "  <tbody>\n",
       "    <tr>\n",
       "      <th>0</th>\n",
       "      <td>1</td>\n",
       "      <td>15634602</td>\n",
       "      <td>Hargrave</td>\n",
       "      <td>619</td>\n",
       "      <td>France</td>\n",
       "      <td>Female</td>\n",
       "      <td>42</td>\n",
       "      <td>2</td>\n",
       "      <td>0.00</td>\n",
       "      <td>1</td>\n",
       "      <td>1</td>\n",
       "      <td>1</td>\n",
       "      <td>101348.88</td>\n",
       "      <td>1</td>\n",
       "    </tr>\n",
       "    <tr>\n",
       "      <th>1</th>\n",
       "      <td>2</td>\n",
       "      <td>15647311</td>\n",
       "      <td>Hill</td>\n",
       "      <td>608</td>\n",
       "      <td>Spain</td>\n",
       "      <td>Female</td>\n",
       "      <td>41</td>\n",
       "      <td>1</td>\n",
       "      <td>83807.86</td>\n",
       "      <td>1</td>\n",
       "      <td>0</td>\n",
       "      <td>1</td>\n",
       "      <td>112542.58</td>\n",
       "      <td>0</td>\n",
       "    </tr>\n",
       "    <tr>\n",
       "      <th>2</th>\n",
       "      <td>3</td>\n",
       "      <td>15619304</td>\n",
       "      <td>Onio</td>\n",
       "      <td>502</td>\n",
       "      <td>France</td>\n",
       "      <td>Female</td>\n",
       "      <td>42</td>\n",
       "      <td>8</td>\n",
       "      <td>159660.80</td>\n",
       "      <td>3</td>\n",
       "      <td>1</td>\n",
       "      <td>0</td>\n",
       "      <td>113931.57</td>\n",
       "      <td>1</td>\n",
       "    </tr>\n",
       "    <tr>\n",
       "      <th>3</th>\n",
       "      <td>4</td>\n",
       "      <td>15701354</td>\n",
       "      <td>Boni</td>\n",
       "      <td>699</td>\n",
       "      <td>France</td>\n",
       "      <td>Female</td>\n",
       "      <td>39</td>\n",
       "      <td>1</td>\n",
       "      <td>0.00</td>\n",
       "      <td>2</td>\n",
       "      <td>0</td>\n",
       "      <td>0</td>\n",
       "      <td>93826.63</td>\n",
       "      <td>0</td>\n",
       "    </tr>\n",
       "    <tr>\n",
       "      <th>4</th>\n",
       "      <td>5</td>\n",
       "      <td>15737888</td>\n",
       "      <td>Mitchell</td>\n",
       "      <td>850</td>\n",
       "      <td>Spain</td>\n",
       "      <td>Female</td>\n",
       "      <td>43</td>\n",
       "      <td>2</td>\n",
       "      <td>125510.82</td>\n",
       "      <td>1</td>\n",
       "      <td>1</td>\n",
       "      <td>1</td>\n",
       "      <td>79084.10</td>\n",
       "      <td>0</td>\n",
       "    </tr>\n",
       "  </tbody>\n",
       "</table>\n",
       "</div>"
      ],
      "text/plain": [
       "   RowNumber  CustomerId   Surname  CreditScore Geography  Gender  Age  \\\n",
       "0          1    15634602  Hargrave          619    France  Female   42   \n",
       "1          2    15647311      Hill          608     Spain  Female   41   \n",
       "2          3    15619304      Onio          502    France  Female   42   \n",
       "3          4    15701354      Boni          699    France  Female   39   \n",
       "4          5    15737888  Mitchell          850     Spain  Female   43   \n",
       "\n",
       "   Tenure    Balance  NumOfProducts  HasCrCard  IsActiveMember  \\\n",
       "0       2       0.00              1          1               1   \n",
       "1       1   83807.86              1          0               1   \n",
       "2       8  159660.80              3          1               0   \n",
       "3       1       0.00              2          0               0   \n",
       "4       2  125510.82              1          1               1   \n",
       "\n",
       "   EstimatedSalary  Exited  \n",
       "0        101348.88       1  \n",
       "1        112542.58       0  \n",
       "2        113931.57       1  \n",
       "3         93826.63       0  \n",
       "4         79084.10       0  "
      ]
     },
     "execution_count": 3,
     "metadata": {},
     "output_type": "execute_result"
    }
   ],
   "source": [
    "#inspect dataset\n",
    "df.shape\n",
    "df.head(5)"
   ]
  },
  {
   "cell_type": "code",
   "execution_count": 4,
   "metadata": {},
   "outputs": [
    {
     "data": {
      "text/plain": [
       "RowNumber          0\n",
       "CustomerId         0\n",
       "Surname            0\n",
       "CreditScore        0\n",
       "Geography          0\n",
       "Gender             0\n",
       "Age                0\n",
       "Tenure             0\n",
       "Balance            0\n",
       "NumOfProducts      0\n",
       "HasCrCard          0\n",
       "IsActiveMember     0\n",
       "EstimatedSalary    0\n",
       "Exited             0\n",
       "dtype: int64"
      ]
     },
     "execution_count": 4,
     "metadata": {},
     "output_type": "execute_result"
    }
   ],
   "source": [
    "df.describe()\n",
    "df.isnull().sum()"
   ]
  },
  {
   "cell_type": "code",
   "execution_count": 5,
   "metadata": {},
   "outputs": [
    {
     "data": {
      "image/png": "[encoded data removed]",
      "text/plain": [
       "<matplotlib.figure.Figure at 0x112c515f8>"
      ]
     },
     "metadata": {},
     "output_type": "display_data"
    }
   ],
   "source": [
    "import seaborn as sns\n",
    "corr = df.corr()\n",
    "sns.heatmap(corr, cmap = 'YlGnBu')\n",
    "plt.show()"
   ]
  },
  {
   "cell_type": "code",
   "execution_count": 6,
   "metadata": {
    "collapsed": true
   },
   "outputs": [],
   "source": [
    "#drop columns = customerID, Row Number and Surname\n",
    "X = df.iloc[:, 3:13].values  \n",
    "Y = df.iloc[:, 13].values  "
   ]
  },
  {
   "cell_type": "code",
   "execution_count": 7,
   "metadata": {
    "collapsed": true
   },
   "outputs": [],
   "source": [
    "# Encoding categorical data\n",
    "from sklearn.preprocessing import LabelEncoder, OneHotEncoder\n",
    "labelencoder_X_1 = LabelEncoder() \n",
    "X[:, 1] = labelencoder_X_1.fit_transform(X[:, 1]) # encoding countries \n",
    "labelencoder_X_2 = LabelEncoder() \n",
    "X[:, 2] = labelencoder_X_2.fit_transform(X[:, 2]) # encoding gender\n",
    "onehotencoder = OneHotEncoder(categorical_features = [1])\n",
    "X = onehotencoder.fit_transform(X).toarray()\n",
    "# avoid dummy variable trap - remove first column generated from countries encoding\n",
    "X = X[:, 1:] "
   ]
  },
  {
   "cell_type": "code",
   "execution_count": 8,
   "metadata": {
    "collapsed": true
   },
   "outputs": [],
   "source": [
    "#Splitting the dataset into the Training set and Test set\n",
    "from sklearn.model_selection import train_test_split\n",
    "X_train, X_test, Y_train, Y_test = train_test_split(X, Y, test_size = 0.2, random_state = 0) "
   ]
  },
  {
   "cell_type": "markdown",
   "metadata": {},
   "source": [
    "## Feature Scaling \n",
    "* Apply Feature Scaling for data required Eculidean distance calculations\n",
    "* Most regression library already support scaling by default\n",
    "* Apply Feature Scaling for ANN (since ANN requires a lot of computation)"
   ]
  },
  {
   "cell_type": "code",
   "execution_count": 9,
   "metadata": {
    "collapsed": true
   },
   "outputs": [],
   "source": [
    "from sklearn.preprocessing import StandardScaler\n",
    "sc_X = StandardScaler ()\n",
    "X_train = sc_X.fit_transform(X_train)\n",
    "X_test = sc_X.transform(X_test) "
   ]
  },
  {
   "cell_type": "code",
   "execution_count": 10,
   "metadata": {
    "scrolled": true
   },
   "outputs": [
    {
     "name": "stderr",
     "output_type": "stream",
     "text": [
      "Using TensorFlow backend.\n"
     ]
    }
   ],
   "source": [
    "import keras\n",
    "from keras.models import Sequential \n",
    "from keras.layers import Dense"
   ]
  },
  {
   "cell_type": "markdown",
   "metadata": {},
   "source": [
    "## Initialising the ANN as sequence of layers"
   ]
  },
  {
   "cell_type": "code",
   "execution_count": 11,
   "metadata": {
    "collapsed": true
   },
   "outputs": [],
   "source": [
    "classifier = Sequential()  "
   ]
  },
  {
   "cell_type": "markdown",
   "metadata": {},
   "source": [
    "## Adding the first layer\n",
    "* Randomly initialise all weights to be uniformly distributed and as close to 0 (but not 0) as possible\n",
    "* Input first observation of dataset in the input layer, each feature in one input node, by setting input dimensions (number of independent variables)\n",
    "* Define the nodes for output layer. Parameter tuning using k-fold cross validation could be completed at later stage if necessary. As an initial test, a good practise is simply to half the total number of dependent and independent variables."
   ]
  },
  {
   "cell_type": "code",
   "execution_count": 12,
   "metadata": {
    "collapsed": true
   },
   "outputs": [],
   "source": [
    "classifier.add(Dense(input_dim = 11, units = 6, kernel_initializer = 'glorot_uniform', activation = 'relu'))"
   ]
  },
  {
   "cell_type": "markdown",
   "metadata": {},
   "source": [
    "## Adding the second hidden layer"
   ]
  },
  {
   "cell_type": "code",
   "execution_count": 13,
   "metadata": {
    "collapsed": true
   },
   "outputs": [],
   "source": [
    "# to improve model's accuracy \n",
    "classifier.add(Dense(units = 6, activation = 'relu'))"
   ]
  },
  {
   "cell_type": "markdown",
   "metadata": {},
   "source": [
    "## Adding the output layer - Perceptron\n",
    "* 1 node (binary output for customer will leave the bank or not) \n",
    "* An activation function using signmoid for computing the probability in a logistic regression model"
   ]
  },
  {
   "cell_type": "code",
   "execution_count": 14,
   "metadata": {
    "collapsed": true
   },
   "outputs": [],
   "source": [
    "classifier.add(Dense(units = 1, activation = 'sigmoid'))"
   ]
  },
  {
   "cell_type": "markdown",
   "metadata": {},
   "source": [
    "## Applying Stochastic Gradient Descent\n",
    "* Adam is a variant of SGD for its effeciency and the coresponding loss function to be optimsed in order to achieve a set of optimal weights of the ANN. \n",
    "* The loss function for adam SGD is Logarithmic Loss. \n",
    "* For a binary classification outcome, the loss = binary_crossentropy. \n",
    "* For a categorical outcome, the loss = categorical_crossentrophy. \n",
    "* During each Epoch (observations) training, after all weights have been updated, accuracy metric is used to improve the model. "
   ]
  },
  {
   "cell_type": "code",
   "execution_count": 15,
   "metadata": {
    "collapsed": true
   },
   "outputs": [],
   "source": [
    "classifier.compile(optimizer = 'adam', loss = 'binary_crossentropy', metrics = ['accuracy'])"
   ]
  },
  {
   "cell_type": "code",
   "execution_count": 16,
   "metadata": {
    "collapsed": true
   },
   "outputs": [],
   "source": [
    "# Callback\n",
    "from keras.callbacks import History\n",
    "histories = History()"
   ]
  },
  {
   "cell_type": "code",
   "execution_count": 17,
   "metadata": {},
   "outputs": [
    {
     "name": "stdout",
     "output_type": "stream",
     "text": [
      "Epoch 1/100\n",
      "8000/8000 [==============================] - 2s 245us/step - loss: 0.5409 - acc: 0.7632\n",
      "Epoch 2/100\n",
      "8000/8000 [==============================] - 2s 246us/step - loss: 0.4446 - acc: 0.8001\n",
      "Epoch 3/100\n",
      "8000/8000 [==============================] - 2s 232us/step - loss: 0.4281 - acc: 0.8127\n",
      "Epoch 4/100\n",
      "8000/8000 [==============================] - 2s 231us/step - loss: 0.4188 - acc: 0.8197\n",
      "Epoch 5/100\n",
      "8000/8000 [==============================] - 2s 247us/step - loss: 0.4089 - acc: 0.8252\n",
      "Epoch 6/100\n",
      "8000/8000 [==============================] - 2s 240us/step - loss: 0.3948 - acc: 0.8315\n",
      "Epoch 7/100\n",
      "8000/8000 [==============================] - 2s 242us/step - loss: 0.3801 - acc: 0.8414\n",
      "Epoch 8/100\n",
      "8000/8000 [==============================] - 2s 243us/step - loss: 0.3668 - acc: 0.8494\n",
      "Epoch 9/100\n",
      "8000/8000 [==============================] - 2s 235us/step - loss: 0.3570 - acc: 0.8535\n",
      "Epoch 10/100\n",
      "8000/8000 [==============================] - 2s 235us/step - loss: 0.3499 - acc: 0.8575\n",
      "Epoch 11/100\n",
      "8000/8000 [==============================] - 2s 248us/step - loss: 0.3461 - acc: 0.8601\n",
      "Epoch 12/100\n",
      "8000/8000 [==============================] - 2s 244us/step - loss: 0.3441 - acc: 0.8589\n",
      "Epoch 13/100\n",
      "8000/8000 [==============================] - 2s 244us/step - loss: 0.3422 - acc: 0.8586\n",
      "Epoch 14/100\n",
      "8000/8000 [==============================] - 2s 253us/step - loss: 0.3404 - acc: 0.8615\n",
      "Epoch 15/100\n",
      "8000/8000 [==============================] - 2s 246us/step - loss: 0.3401 - acc: 0.8596\n",
      "Epoch 16/100\n",
      "8000/8000 [==============================] - 2s 231us/step - loss: 0.3393 - acc: 0.8600\n",
      "Epoch 17/100\n",
      "8000/8000 [==============================] - 2s 294us/step - loss: 0.3387 - acc: 0.8604\n",
      "Epoch 18/100\n",
      "8000/8000 [==============================] - 2s 252us/step - loss: 0.3380 - acc: 0.8600\n",
      "Epoch 19/100\n",
      "8000/8000 [==============================] - 2s 245us/step - loss: 0.3379 - acc: 0.8610\n",
      "Epoch 20/100\n",
      "8000/8000 [==============================] - 2s 234us/step - loss: 0.3379 - acc: 0.8614\n",
      "Epoch 21/100\n",
      "8000/8000 [==============================] - 2s 237us/step - loss: 0.3370 - acc: 0.8611\n",
      "Epoch 22/100\n",
      "8000/8000 [==============================] - 2s 241us/step - loss: 0.3367 - acc: 0.8622\n",
      "Epoch 23/100\n",
      "8000/8000 [==============================] - 2s 240us/step - loss: 0.3367 - acc: 0.8636\n",
      "Epoch 24/100\n",
      "8000/8000 [==============================] - 2s 243us/step - loss: 0.3357 - acc: 0.8635\n",
      "Epoch 25/100\n",
      "8000/8000 [==============================] - 2s 236us/step - loss: 0.3363 - acc: 0.8617\n",
      "Epoch 26/100\n",
      "8000/8000 [==============================] - 2s 249us/step - loss: 0.3359 - acc: 0.8634\n",
      "Epoch 27/100\n",
      "8000/8000 [==============================] - 2s 229us/step - loss: 0.3355 - acc: 0.8634\n",
      "Epoch 28/100\n",
      "8000/8000 [==============================] - 2s 235us/step - loss: 0.3354 - acc: 0.8634\n",
      "Epoch 29/100\n",
      "8000/8000 [==============================] - 2s 241us/step - loss: 0.3354 - acc: 0.8630\n",
      "Epoch 30/100\n",
      "8000/8000 [==============================] - 2s 235us/step - loss: 0.3354 - acc: 0.8626\n",
      "Epoch 31/100\n",
      "8000/8000 [==============================] - 2s 231us/step - loss: 0.3353 - acc: 0.8624\n",
      "Epoch 32/100\n",
      "8000/8000 [==============================] - 2s 236us/step - loss: 0.3349 - acc: 0.8630\n",
      "Epoch 33/100\n",
      "8000/8000 [==============================] - 2s 228us/step - loss: 0.3353 - acc: 0.8632\n",
      "Epoch 34/100\n",
      "8000/8000 [==============================] - 2s 229us/step - loss: 0.3348 - acc: 0.8625\n",
      "Epoch 35/100\n",
      "8000/8000 [==============================] - 2s 233us/step - loss: 0.3341 - acc: 0.8642 1s - loss: 0.3647 - acc: 0.865 - E\n",
      "Epoch 36/100\n",
      "8000/8000 [==============================] - 2s 226us/step - loss: 0.3346 - acc: 0.8647\n",
      "Epoch 37/100\n",
      "8000/8000 [==============================] - 2s 235us/step - loss: 0.3348 - acc: 0.8624\n",
      "Epoch 38/100\n",
      "8000/8000 [==============================] - 2s 227us/step - loss: 0.3345 - acc: 0.8640\n",
      "Epoch 39/100\n",
      "8000/8000 [==============================] - 2s 229us/step - loss: 0.3343 - acc: 0.8629\n",
      "Epoch 40/100\n",
      "8000/8000 [==============================] - 2s 232us/step - loss: 0.3340 - acc: 0.8620\n",
      "Epoch 41/100\n",
      "8000/8000 [==============================] - 2s 225us/step - loss: 0.3340 - acc: 0.8630\n",
      "Epoch 42/100\n",
      "8000/8000 [==============================] - 2s 239us/step - loss: 0.3340 - acc: 0.8634\n",
      "Epoch 43/100\n",
      "8000/8000 [==============================] - 2s 276us/step - loss: 0.3341 - acc: 0.8637\n",
      "Epoch 44/100\n",
      "8000/8000 [==============================] - 2s 246us/step - loss: 0.3334 - acc: 0.8649\n",
      "Epoch 45/100\n",
      "8000/8000 [==============================] - 2s 252us/step - loss: 0.3331 - acc: 0.8644\n",
      "Epoch 46/100\n",
      "8000/8000 [==============================] - 2s 226us/step - loss: 0.3327 - acc: 0.8647\n",
      "Epoch 47/100\n",
      "8000/8000 [==============================] - 2s 262us/step - loss: 0.3330 - acc: 0.8639\n",
      "Epoch 48/100\n",
      "8000/8000 [==============================] - 2s 231us/step - loss: 0.3323 - acc: 0.8651\n",
      "Epoch 49/100\n",
      "8000/8000 [==============================] - 2s 225us/step - loss: 0.3324 - acc: 0.8655\n",
      "Epoch 50/100\n",
      "8000/8000 [==============================] - 2s 234us/step - loss: 0.3330 - acc: 0.8649\n",
      "Epoch 51/100\n",
      "8000/8000 [==============================] - 2s 222us/step - loss: 0.3324 - acc: 0.8634\n",
      "Epoch 52/100\n",
      "8000/8000 [==============================] - 2s 221us/step - loss: 0.3327 - acc: 0.8660\n",
      "Epoch 53/100\n",
      "8000/8000 [==============================] - 2s 222us/step - loss: 0.3323 - acc: 0.8659\n",
      "Epoch 54/100\n",
      "8000/8000 [==============================] - 2s 221us/step - loss: 0.3325 - acc: 0.8651\n",
      "Epoch 55/100\n",
      "8000/8000 [==============================] - 2s 235us/step - loss: 0.3320 - acc: 0.8656\n",
      "Epoch 56/100\n",
      "8000/8000 [==============================] - 2s 229us/step - loss: 0.3323 - acc: 0.8634\n",
      "Epoch 57/100\n",
      "8000/8000 [==============================] - 2s 223us/step - loss: 0.3315 - acc: 0.8659\n",
      "Epoch 58/100\n",
      "8000/8000 [==============================] - 2s 225us/step - loss: 0.3320 - acc: 0.8636\n",
      "Epoch 59/100\n",
      "8000/8000 [==============================] - 2s 230us/step - loss: 0.3317 - acc: 0.8646\n",
      "Epoch 60/100\n",
      "8000/8000 [==============================] - 2s 223us/step - loss: 0.3322 - acc: 0.8654\n",
      "Epoch 61/100\n",
      "8000/8000 [==============================] - 2s 225us/step - loss: 0.3322 - acc: 0.8634\n",
      "Epoch 62/100\n",
      "8000/8000 [==============================] - 2s 222us/step - loss: 0.3322 - acc: 0.8656\n",
      "Epoch 63/100\n",
      "8000/8000 [==============================] - 2s 223us/step - loss: 0.3317 - acc: 0.8646\n",
      "Epoch 64/100\n",
      "8000/8000 [==============================] - 2s 225us/step - loss: 0.3318 - acc: 0.8647\n",
      "Epoch 65/100\n",
      "8000/8000 [==============================] - 2s 223us/step - loss: 0.3321 - acc: 0.8651\n",
      "Epoch 66/100\n",
      "8000/8000 [==============================] - 2s 223us/step - loss: 0.3314 - acc: 0.8644\n",
      "Epoch 67/100\n",
      "8000/8000 [==============================] - 2s 226us/step - loss: 0.3322 - acc: 0.8637\n",
      "Epoch 68/100\n",
      "8000/8000 [==============================] - 2s 226us/step - loss: 0.3319 - acc: 0.8660\n",
      "Epoch 69/100\n",
      "8000/8000 [==============================] - 2s 224us/step - loss: 0.3320 - acc: 0.8664\n",
      "Epoch 70/100\n",
      "8000/8000 [==============================] - 2s 224us/step - loss: 0.3315 - acc: 0.8642\n",
      "Epoch 71/100\n",
      "8000/8000 [==============================] - 2s 242us/step - loss: 0.3318 - acc: 0.8677\n",
      "Epoch 72/100\n",
      "8000/8000 [==============================] - 2s 231us/step - loss: 0.3319 - acc: 0.8642\n",
      "Epoch 73/100\n",
      "8000/8000 [==============================] - 2s 264us/step - loss: 0.3320 - acc: 0.8641\n",
      "Epoch 74/100\n",
      "8000/8000 [==============================] - 2s 239us/step - loss: 0.3318 - acc: 0.8662\n",
      "Epoch 75/100\n",
      "8000/8000 [==============================] - 2s 223us/step - loss: 0.3317 - acc: 0.8649\n",
      "Epoch 76/100\n",
      "8000/8000 [==============================] - 2s 224us/step - loss: 0.3317 - acc: 0.8652\n",
      "Epoch 77/100\n",
      "8000/8000 [==============================] - 2s 223us/step - loss: 0.3313 - acc: 0.8665\n",
      "Epoch 78/100\n",
      "8000/8000 [==============================] - 2s 224us/step - loss: 0.3319 - acc: 0.8641\n",
      "Epoch 79/100\n",
      "8000/8000 [==============================] - 2s 223us/step - loss: 0.3316 - acc: 0.8664\n",
      "Epoch 80/100\n",
      "8000/8000 [==============================] - 2s 223us/step - loss: 0.3314 - acc: 0.8636\n",
      "Epoch 81/100\n"
     ]
    },
    {
     "name": "stdout",
     "output_type": "stream",
     "text": [
      "8000/8000 [==============================] - 2s 229us/step - loss: 0.3315 - acc: 0.8646\n",
      "Epoch 82/100\n",
      "8000/8000 [==============================] - 2s 224us/step - loss: 0.3312 - acc: 0.8661\n",
      "Epoch 83/100\n",
      "8000/8000 [==============================] - 2s 224us/step - loss: 0.3313 - acc: 0.8635\n",
      "Epoch 84/100\n",
      "8000/8000 [==============================] - 2s 227us/step - loss: 0.3306 - acc: 0.8657\n",
      "Epoch 85/100\n",
      "8000/8000 [==============================] - 2s 230us/step - loss: 0.3311 - acc: 0.8647\n",
      "Epoch 86/100\n",
      "8000/8000 [==============================] - 2s 228us/step - loss: 0.3307 - acc: 0.8646\n",
      "Epoch 87/100\n",
      "8000/8000 [==============================] - 2s 221us/step - loss: 0.3306 - acc: 0.8641\n",
      "Epoch 88/100\n",
      "8000/8000 [==============================] - 2s 222us/step - loss: 0.3309 - acc: 0.8657\n",
      "Epoch 89/100\n",
      "8000/8000 [==============================] - 2s 222us/step - loss: 0.3306 - acc: 0.8655\n",
      "Epoch 90/100\n",
      "8000/8000 [==============================] - 2s 222us/step - loss: 0.3310 - acc: 0.8656\n",
      "Epoch 91/100\n",
      "8000/8000 [==============================] - 2s 221us/step - loss: 0.3304 - acc: 0.8659\n",
      "Epoch 92/100\n",
      "8000/8000 [==============================] - 2s 222us/step - loss: 0.3308 - acc: 0.8640\n",
      "Epoch 93/100\n",
      "8000/8000 [==============================] - 2s 221us/step - loss: 0.3302 - acc: 0.8652\n",
      "Epoch 94/100\n",
      "8000/8000 [==============================] - 2s 221us/step - loss: 0.3308 - acc: 0.8651\n",
      "Epoch 95/100\n",
      "8000/8000 [==============================] - 2s 221us/step - loss: 0.3307 - acc: 0.8644\n",
      "Epoch 96/100\n",
      "8000/8000 [==============================] - 2s 221us/step - loss: 0.3301 - acc: 0.8641\n",
      "Epoch 97/100\n",
      "8000/8000 [==============================] - 2s 223us/step - loss: 0.3301 - acc: 0.8655\n",
      "Epoch 98/100\n",
      "8000/8000 [==============================] - 2s 222us/step - loss: 0.3303 - acc: 0.8660\n",
      "Epoch 99/100\n",
      "8000/8000 [==============================] - 2s 221us/step - loss: 0.3300 - acc: 0.8666\n",
      "Epoch 100/100\n",
      "8000/8000 [==============================] - 2s 222us/step - loss: 0.3298 - acc: 0.8669\n"
     ]
    },
    {
     "data": {
      "text/plain": [
       "<keras.callbacks.History at 0x1a25b8fbe0>"
      ]
     },
     "execution_count": 17,
     "metadata": {},
     "output_type": "execute_result"
    }
   ],
   "source": [
    "# FItting the ANN to the Training set \n",
    "### Run a batch size of 10 observations before all the weights are updated. \n",
    "classifier.fit(X_train,Y_train, batch_size = 10, epochs = 100, callbacks = [histories])"
   ]
  },
  {
   "cell_type": "markdown",
   "metadata": {},
   "source": [
    "## Evaluating the model\t"
   ]
  },
  {
   "cell_type": "code",
   "execution_count": 18,
   "metadata": {},
   "outputs": [
    {
     "name": "stdout",
     "output_type": "stream",
     "text": [
      "\n",
      "The loss function of the test set is: 0.331\n",
      "The acc of the test set is: 86.200%\n",
      "\n",
      "The loss function of the training set is: 0.327\n",
      "The acc of the training set is: 86.675%\n"
     ]
    }
   ],
   "source": [
    "score = classifier.evaluate(X_test, Y_test, verbose=0)\n",
    "print('\\nThe {0} function of the test set is: {1:0.3}'.format(classifier.metrics_names[0],score[0]))\n",
    "print('The {0} of the test set is: {1:0.3%}'.format(classifier.metrics_names[1],score[1]))\n",
    "\n",
    "score = classifier.evaluate(X_train, Y_train, verbose=0)\n",
    "print('\\nThe {0} function of the training set is: {1:0.3}'.format(classifier.metrics_names[0],score[0]))\n",
    "print('The {0} of the training set is: {1:0.3%}'.format(classifier.metrics_names[1],score[1]))"
   ]
  },
  {
   "cell_type": "code",
   "execution_count": 19,
   "metadata": {
    "scrolled": false
   },
   "outputs": [
    {
     "data": {
      "image/png": "[encoded data removed]",
      "text/plain": [
       "<matplotlib.figure.Figure at 0x1a25e452b0>"
      ]
     },
     "metadata": {},
     "output_type": "display_data"
    }
   ],
   "source": [
    "# summarize history for accuracy\n",
    "plt.plot(histories.history['acc'])\n",
    "plt.title('model accuracy')\n",
    "plt.ylabel('accuracy')\n",
    "plt.xlabel('epoch')\n",
    "plt.legend(['test'], loc='upper left')\n",
    "plt.show()"
   ]
  },
  {
   "cell_type": "code",
   "execution_count": 20,
   "metadata": {
    "scrolled": true
   },
   "outputs": [
    {
     "data": {
      "image/png": "[encoded data removed]",
      "text/plain": [
       "<matplotlib.figure.Figure at 0x1a25e45128>"
      ]
     },
     "metadata": {},
     "output_type": "display_data"
    }
   ],
   "source": [
    "# summarize history for loss\n",
    "plt.plot(histories.history['loss']) \n",
    "plt.title('model loss')\n",
    "plt.ylabel('loss')\n",
    "plt.xlabel('epoch')\n",
    "plt.legend(['test'], loc='upper right')\n",
    "plt.show()"
   ]
  },
  {
   "cell_type": "markdown",
   "metadata": {},
   "source": [
    "## Making the predictions and Completing the Confusion Matrix"
   ]
  },
  {
   "cell_type": "code",
   "execution_count": 21,
   "metadata": {
    "collapsed": true
   },
   "outputs": [],
   "source": [
    "# Predicting the Test set results\n",
    "y_pred = classifier.predict(X_test) # predict y based on X_test (2000 test samples)\n",
    "y_pred = (y_pred > 0.5) # set a theshold, return TRUE if y_pred > 0.5"
   ]
  },
  {
   "cell_type": "code",
   "execution_count": 22,
   "metadata": {},
   "outputs": [
    {
     "data": {
      "text/plain": [
       "array([[1510,   85],\n",
       "       [ 191,  214]])"
      ]
     },
     "execution_count": 22,
     "metadata": {},
     "output_type": "execute_result"
    }
   ],
   "source": [
    "# Making the Confusion Matrix\n",
    "from sklearn.metrics import confusion_matrix\n",
    "cm = confusion_matrix(Y_test,y_pred) \n",
    "cm"
   ]
  }
 ],
 "metadata": {
  "kernelspec": {
   "display_name": "Python 3",
   "language": "python",
   "name": "python3"
  },
  "language_info": {
   "codemirror_mode": {
    "name": "ipython",
    "version": 3
   },
   "file_extension": ".py",
   "mimetype": "text/x-python",
   "name": "python",
   "nbconvert_exporter": "python",
   "pygments_lexer": "ipython3",
   "version": "3.5.4"
  }
 },
 "nbformat": 4,
 "nbformat_minor": 2
}
