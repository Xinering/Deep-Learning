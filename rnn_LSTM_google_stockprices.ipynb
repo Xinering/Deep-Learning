{
 "cells": [
  {
   "cell_type": "markdown",
   "metadata": {},
   "source": [
    "# Recurrent Neural Network - LSTM on Google Stock Prices: Google LLC.\n",
    "\n",
    "## Objectives: \n",
    "Building Recurrent Neural Network (RNN) to: \n",
    "* Learn and train based on the sequential time series   \n",
    "* Complete RNN based on Long Short Term Memory (LSTM) architecture. An excellent description of LSTM can be found here. http://colah.github.io/posts/2015-08-Understanding-LSTMs/\n",
    "* 4 x LSTM layers with 1 output layer  \n",
    "\n",
    "\n",
    "## Steps: \n",
    "1) Feature Scaling (Apply Normalisation) to the training set \n",
    "\n",
    "2) Creating a data structure with look-back timesteps (t), and output (t+1)\n",
    "    \n",
    "3) Reshaping X_train (t)\n",
    "\n",
    "4) Getting the X_test, Features Scaling (Apply Normalisation) to the test set \n",
    "  \n",
    "5) Building RNN: 4 x LSTM layers with 1 output layer \n",
    "\n",
    "6) Compiling RNN \n",
    "\n",
    "6) Fitting RNN to the training set \n",
    "\n",
    "7) Evaluate the model, visualise the analysis results\n",
    "\n",
    "8) Parameters tuning to improve the accuracy of the model\n",
    "\n",
    "Scenario: To build a RNN model to predict Apple Inc's stockprice between 3rd Jan 2017 to 31st Jan 2017, using the historical stock prices data from 3rd Jan 2012 to 30th Dec 2016.  \n",
    "\n",
    "### Dataset: \n",
    "\n",
    "Google Finance : https://finance.google.com/finance\n",
    "\n",
    "The historical finanical data as training set: 3rd Jan 2012 to 30th Dec 2016\n",
    "\n",
    "Test set: 3rd Jan 2017 to 31st Jan 2017"
   ]
  },
  {
   "cell_type": "code",
   "execution_count": 1,
   "metadata": {
    "collapsed": true
   },
   "outputs": [],
   "source": [
    "# Importing the libraries\n",
    "import numpy as np\n",
    "import matplotlib.pyplot as plt\n",
    "import pandas as pd"
   ]
  },
  {
   "cell_type": "code",
   "execution_count": 2,
   "metadata": {
    "collapsed": true
   },
   "outputs": [],
   "source": [
    "# Importing the training set\n",
    "df_train = pd.read_csv('Google_Stock_Price_Train.csv')\n",
    "training_set = df_train.iloc[:, 1:2].values "
   ]
  },
  {
   "cell_type": "markdown",
   "metadata": {},
   "source": [
    "## Feature Scaling - Normalisation \n",
    "* LSTMs are sensitive to the scale of input data, particularly with the the default activation functions sigmoid or tanh.\n",
    "* Important: To preserve the integrity of the test set (X_test: time segement to be predicted), the test set cannot be scaled (normalised) with the training set. We are not supposed to know the test set.   "
   ]
  },
  {
   "cell_type": "code",
   "execution_count": 3,
   "metadata": {
    "collapsed": true
   },
   "outputs": [],
   "source": [
    "from sklearn.preprocessing import MinMaxScaler\n",
    "sc = MinMaxScaler(feature_range = (0, 1)) # normalised between 0 and 1\n",
    "training_set_scaled = sc.fit_transform(training_set)"
   ]
  },
  {
   "cell_type": "code",
   "execution_count": 4,
   "metadata": {},
   "outputs": [
    {
     "data": {
      "text/plain": [
       "array([[ 0.08581368],\n",
       "       [ 0.09701243],\n",
       "       [ 0.09433366],\n",
       "       [ 0.09156187],\n",
       "       [ 0.07984225]])"
      ]
     },
     "execution_count": 4,
     "metadata": {},
     "output_type": "execute_result"
    }
   ],
   "source": [
    "training_set_scaled[:5]"
   ]
  },
  {
   "cell_type": "markdown",
   "metadata": {},
   "source": [
    "## Creating a data structure with look-back timesteps (t), and output (t+1)\n",
    "* First, need to establish a suitable timesteps for the RNN network to learn the data\n",
    "* Unit for each time sequence corresponds to 1 financial day\n",
    "* Parameters tuning (e.g., timesteps, sample sizes) will be necessary to improve the accuracy of the model.\n",
    "* 20 days = 1 financial month \n",
    "* Model training: The objective is to use every 3 consecutive months (t) to predict the stock price for the next day (t+1). The whole time sequence is then shifted by 1 day, and repeating the training process. \n",
    "* Every subsequent time element of t is appended as X_train (i.e., look back timesteps as 60 days)\n",
    "* Every subsequent time element of t+1 is appended as y_train (i.e., 1 day)"
   ]
  },
  {
   "cell_type": "code",
   "execution_count": 5,
   "metadata": {
    "collapsed": true
   },
   "outputs": [],
   "source": [
    "timesteps = 60 #in days, experiment with other days unit to tune the accuracy of the model \n",
    "\n",
    "X_train = []\n",
    "y_train = []\n",
    "\n",
    "for i in range(timesteps, len(training_set_scaled)):\n",
    "    X_train.append(training_set_scaled[i-timesteps:i, 0]) #(t):memorise the 60 (0 to 59) look-back stock prices\n",
    "    y_train.append(training_set_scaled[i, 0]) #(t+1): the 61st stock price (60)\n",
    "X_train, y_train = np.array(X_train), np.array(y_train)"
   ]
  },
  {
   "cell_type": "markdown",
   "metadata": {},
   "source": [
    "## Reshaping X_train (t)\n",
    "* Reshaping X_train from 2D numpy array to 3D numpy array (i.e., tensor) as required by Keras RNN\n",
    "* batch_size = number of rows of X_train\n",
    "* timesteps = number of columns of X_train\n",
    "* input_dim = 1 predictor (i.e., Apple Inc's stock price) "
   ]
  },
  {
   "cell_type": "code",
   "execution_count": 6,
   "metadata": {
    "collapsed": true
   },
   "outputs": [],
   "source": [
    "X_train = np.reshape(X_train, (X_train.shape[0], X_train.shape[1], 1)) # batch_size, timesteps, input_dim"
   ]
  },
  {
   "cell_type": "code",
   "execution_count": 7,
   "metadata": {},
   "outputs": [
    {
     "data": {
      "text/plain": [
       "(1198, 60, 1)"
      ]
     },
     "execution_count": 7,
     "metadata": {},
     "output_type": "execute_result"
    }
   ],
   "source": [
    "X_train.shape"
   ]
  },
  {
   "cell_type": "code",
   "execution_count": 8,
   "metadata": {},
   "outputs": [
    {
     "data": {
      "text/plain": [
       "array([ 0.08627874,  0.08471612,  0.07454052,  0.07883771,  0.07238262])"
      ]
     },
     "execution_count": 8,
     "metadata": {},
     "output_type": "execute_result"
    }
   ],
   "source": [
    "y_train[:5]"
   ]
  },
  {
   "cell_type": "markdown",
   "metadata": {},
   "source": [
    "# Getting the X_test\n",
    "* Getting the real stock price to validate our predicted results (1st to 31st Jan 2018)\n",
    "* concatenate the previous timesteps (60days) to predict day 1 of our test set (i.e., 1st Jan 2018)\n",
    "* feature scaling (normalisation) is then applied on this dataset \n",
    "* reshaping X_test from 2D numpy array to 3D numpy array (i.e., tensor) as required by Keras RNN, the regressor's predict function."
   ]
  },
  {
   "cell_type": "code",
   "execution_count": 9,
   "metadata": {
    "collapsed": true
   },
   "outputs": [],
   "source": [
    "df_test = pd.read_csv('Google_Stock_Price_Test.csv')\n",
    "real_stock_price = df_test.iloc[:, 1:2].values\n",
    "df_total = pd.concat((df_train['Open'], df_test['Open']), axis = 0) #vertical concatenation \n",
    "inputs = df_total[len(df_total) - len(df_test) - timesteps:].values\n",
    "inputs = inputs.reshape(-1,1)\n",
    "inputs = sc.transform(inputs)  \n",
    "X_test = []\n",
    "for i in range(timesteps, len(inputs)):\n",
    "    X_test.append(inputs[i-timesteps:i, 0])\n",
    "X_test = np.array(X_test)\n",
    "X_test = np.reshape(X_test, (X_test.shape[0], X_test.shape[1], 1))"
   ]
  },
  {
   "cell_type": "code",
   "execution_count": 10,
   "metadata": {},
   "outputs": [
    {
     "data": {
      "text/plain": [
       "array([[[ 0.9299055 ],\n",
       "        [ 0.93113327],\n",
       "        [ 0.92750577],\n",
       "        [ 0.94415507],\n",
       "        [ 0.93876032],\n",
       "        [ 0.93403527],\n",
       "        [ 0.93483518],\n",
       "        [ 0.9313937 ],\n",
       "        [ 0.94636878],\n",
       "        [ 0.96569685],\n",
       "        [ 0.97510976],\n",
       "        [ 0.95966962],\n",
       "        [ 0.97808617],\n",
       "        [ 1.        ],\n",
       "        [ 0.98076494],\n",
       "        [ 0.97083116],\n",
       "        [ 0.98450406],\n",
       "        [ 0.96054394],\n",
       "        [ 0.9371419 ],\n",
       "        [ 0.92841729],\n",
       "        [ 0.90804747],\n",
       "        [ 0.8771858 ],\n",
       "        [ 0.92153434],\n",
       "        [ 0.93809063],\n",
       "        [ 0.93165414],\n",
       "        [ 0.95254483],\n",
       "        [ 0.88812412],\n",
       "        [ 0.88637547],\n",
       "        [ 0.87032145],\n",
       "        [ 0.88563137],\n",
       "        [ 0.90743359],\n",
       "        [ 0.91571173],\n",
       "        [ 0.89941588],\n",
       "        [ 0.91805566],\n",
       "        [ 0.9089404 ],\n",
       "        [ 0.9024853 ],\n",
       "        [ 0.89456061],\n",
       "        [ 0.91600938],\n",
       "        [ 0.9132934 ],\n",
       "        [ 0.88979835],\n",
       "        [ 0.86589404],\n",
       "        [ 0.89030062],\n",
       "        [ 0.90335962],\n",
       "        [ 0.89642086],\n",
       "        [ 0.91777662],\n",
       "        [ 0.93176576],\n",
       "        [ 0.94114145],\n",
       "        [ 0.95762334],\n",
       "        [ 0.96413424],\n",
       "        [ 0.96402262],\n",
       "        [ 0.96971501],\n",
       "        [ 0.95077759],\n",
       "        [ 0.96294367],\n",
       "        [ 0.96123223],\n",
       "        [ 0.95475854],\n",
       "        [ 0.95204256],\n",
       "        [ 0.95163331],\n",
       "        [ 0.95725128],\n",
       "        [ 0.93796041],\n",
       "        [ 0.93688146]],\n",
       "\n",
       "       [[ 0.93113327],\n",
       "        [ 0.92750577],\n",
       "        [ 0.94415507],\n",
       "        [ 0.93876032],\n",
       "        [ 0.93403527],\n",
       "        [ 0.93483518],\n",
       "        [ 0.9313937 ],\n",
       "        [ 0.94636878],\n",
       "        [ 0.96569685],\n",
       "        [ 0.97510976],\n",
       "        [ 0.95966962],\n",
       "        [ 0.97808617],\n",
       "        [ 1.        ],\n",
       "        [ 0.98076494],\n",
       "        [ 0.97083116],\n",
       "        [ 0.98450406],\n",
       "        [ 0.96054394],\n",
       "        [ 0.9371419 ],\n",
       "        [ 0.92841729],\n",
       "        [ 0.90804747],\n",
       "        [ 0.8771858 ],\n",
       "        [ 0.92153434],\n",
       "        [ 0.93809063],\n",
       "        [ 0.93165414],\n",
       "        [ 0.95254483],\n",
       "        [ 0.88812412],\n",
       "        [ 0.88637547],\n",
       "        [ 0.87032145],\n",
       "        [ 0.88563137],\n",
       "        [ 0.90743359],\n",
       "        [ 0.91571173],\n",
       "        [ 0.89941588],\n",
       "        [ 0.91805566],\n",
       "        [ 0.9089404 ],\n",
       "        [ 0.9024853 ],\n",
       "        [ 0.89456061],\n",
       "        [ 0.91600938],\n",
       "        [ 0.9132934 ],\n",
       "        [ 0.88979835],\n",
       "        [ 0.86589404],\n",
       "        [ 0.89030062],\n",
       "        [ 0.90335962],\n",
       "        [ 0.89642086],\n",
       "        [ 0.91777662],\n",
       "        [ 0.93176576],\n",
       "        [ 0.94114145],\n",
       "        [ 0.95762334],\n",
       "        [ 0.96413424],\n",
       "        [ 0.96402262],\n",
       "        [ 0.96971501],\n",
       "        [ 0.95077759],\n",
       "        [ 0.96294367],\n",
       "        [ 0.96123223],\n",
       "        [ 0.95475854],\n",
       "        [ 0.95204256],\n",
       "        [ 0.95163331],\n",
       "        [ 0.95725128],\n",
       "        [ 0.93796041],\n",
       "        [ 0.93688146],\n",
       "        [ 0.92955205]],\n",
       "\n",
       "       [[ 0.92750577],\n",
       "        [ 0.94415507],\n",
       "        [ 0.93876032],\n",
       "        [ 0.93403527],\n",
       "        [ 0.93483518],\n",
       "        [ 0.9313937 ],\n",
       "        [ 0.94636878],\n",
       "        [ 0.96569685],\n",
       "        [ 0.97510976],\n",
       "        [ 0.95966962],\n",
       "        [ 0.97808617],\n",
       "        [ 1.        ],\n",
       "        [ 0.98076494],\n",
       "        [ 0.97083116],\n",
       "        [ 0.98450406],\n",
       "        [ 0.96054394],\n",
       "        [ 0.9371419 ],\n",
       "        [ 0.92841729],\n",
       "        [ 0.90804747],\n",
       "        [ 0.8771858 ],\n",
       "        [ 0.92153434],\n",
       "        [ 0.93809063],\n",
       "        [ 0.93165414],\n",
       "        [ 0.95254483],\n",
       "        [ 0.88812412],\n",
       "        [ 0.88637547],\n",
       "        [ 0.87032145],\n",
       "        [ 0.88563137],\n",
       "        [ 0.90743359],\n",
       "        [ 0.91571173],\n",
       "        [ 0.89941588],\n",
       "        [ 0.91805566],\n",
       "        [ 0.9089404 ],\n",
       "        [ 0.9024853 ],\n",
       "        [ 0.89456061],\n",
       "        [ 0.91600938],\n",
       "        [ 0.9132934 ],\n",
       "        [ 0.88979835],\n",
       "        [ 0.86589404],\n",
       "        [ 0.89030062],\n",
       "        [ 0.90335962],\n",
       "        [ 0.89642086],\n",
       "        [ 0.91777662],\n",
       "        [ 0.93176576],\n",
       "        [ 0.94114145],\n",
       "        [ 0.95762334],\n",
       "        [ 0.96413424],\n",
       "        [ 0.96402262],\n",
       "        [ 0.96971501],\n",
       "        [ 0.95077759],\n",
       "        [ 0.96294367],\n",
       "        [ 0.96123223],\n",
       "        [ 0.95475854],\n",
       "        [ 0.95204256],\n",
       "        [ 0.95163331],\n",
       "        [ 0.95725128],\n",
       "        [ 0.93796041],\n",
       "        [ 0.93688146],\n",
       "        [ 0.92955205],\n",
       "        [ 0.94731751]],\n",
       "\n",
       "       [[ 0.94415507],\n",
       "        [ 0.93876032],\n",
       "        [ 0.93403527],\n",
       "        [ 0.93483518],\n",
       "        [ 0.9313937 ],\n",
       "        [ 0.94636878],\n",
       "        [ 0.96569685],\n",
       "        [ 0.97510976],\n",
       "        [ 0.95966962],\n",
       "        [ 0.97808617],\n",
       "        [ 1.        ],\n",
       "        [ 0.98076494],\n",
       "        [ 0.97083116],\n",
       "        [ 0.98450406],\n",
       "        [ 0.96054394],\n",
       "        [ 0.9371419 ],\n",
       "        [ 0.92841729],\n",
       "        [ 0.90804747],\n",
       "        [ 0.8771858 ],\n",
       "        [ 0.92153434],\n",
       "        [ 0.93809063],\n",
       "        [ 0.93165414],\n",
       "        [ 0.95254483],\n",
       "        [ 0.88812412],\n",
       "        [ 0.88637547],\n",
       "        [ 0.87032145],\n",
       "        [ 0.88563137],\n",
       "        [ 0.90743359],\n",
       "        [ 0.91571173],\n",
       "        [ 0.89941588],\n",
       "        [ 0.91805566],\n",
       "        [ 0.9089404 ],\n",
       "        [ 0.9024853 ],\n",
       "        [ 0.89456061],\n",
       "        [ 0.91600938],\n",
       "        [ 0.9132934 ],\n",
       "        [ 0.88979835],\n",
       "        [ 0.86589404],\n",
       "        [ 0.89030062],\n",
       "        [ 0.90335962],\n",
       "        [ 0.89642086],\n",
       "        [ 0.91777662],\n",
       "        [ 0.93176576],\n",
       "        [ 0.94114145],\n",
       "        [ 0.95762334],\n",
       "        [ 0.96413424],\n",
       "        [ 0.96402262],\n",
       "        [ 0.96971501],\n",
       "        [ 0.95077759],\n",
       "        [ 0.96294367],\n",
       "        [ 0.96123223],\n",
       "        [ 0.95475854],\n",
       "        [ 0.95204256],\n",
       "        [ 0.95163331],\n",
       "        [ 0.95725128],\n",
       "        [ 0.93796041],\n",
       "        [ 0.93688146],\n",
       "        [ 0.92955205],\n",
       "        [ 0.94731751],\n",
       "        [ 0.94307612]],\n",
       "\n",
       "       [[ 0.93876032],\n",
       "        [ 0.93403527],\n",
       "        [ 0.93483518],\n",
       "        [ 0.9313937 ],\n",
       "        [ 0.94636878],\n",
       "        [ 0.96569685],\n",
       "        [ 0.97510976],\n",
       "        [ 0.95966962],\n",
       "        [ 0.97808617],\n",
       "        [ 1.        ],\n",
       "        [ 0.98076494],\n",
       "        [ 0.97083116],\n",
       "        [ 0.98450406],\n",
       "        [ 0.96054394],\n",
       "        [ 0.9371419 ],\n",
       "        [ 0.92841729],\n",
       "        [ 0.90804747],\n",
       "        [ 0.8771858 ],\n",
       "        [ 0.92153434],\n",
       "        [ 0.93809063],\n",
       "        [ 0.93165414],\n",
       "        [ 0.95254483],\n",
       "        [ 0.88812412],\n",
       "        [ 0.88637547],\n",
       "        [ 0.87032145],\n",
       "        [ 0.88563137],\n",
       "        [ 0.90743359],\n",
       "        [ 0.91571173],\n",
       "        [ 0.89941588],\n",
       "        [ 0.91805566],\n",
       "        [ 0.9089404 ],\n",
       "        [ 0.9024853 ],\n",
       "        [ 0.89456061],\n",
       "        [ 0.91600938],\n",
       "        [ 0.9132934 ],\n",
       "        [ 0.88979835],\n",
       "        [ 0.86589404],\n",
       "        [ 0.89030062],\n",
       "        [ 0.90335962],\n",
       "        [ 0.89642086],\n",
       "        [ 0.91777662],\n",
       "        [ 0.93176576],\n",
       "        [ 0.94114145],\n",
       "        [ 0.95762334],\n",
       "        [ 0.96413424],\n",
       "        [ 0.96402262],\n",
       "        [ 0.96971501],\n",
       "        [ 0.95077759],\n",
       "        [ 0.96294367],\n",
       "        [ 0.96123223],\n",
       "        [ 0.95475854],\n",
       "        [ 0.95204256],\n",
       "        [ 0.95163331],\n",
       "        [ 0.95725128],\n",
       "        [ 0.93796041],\n",
       "        [ 0.93688146],\n",
       "        [ 0.92955205],\n",
       "        [ 0.94731751],\n",
       "        [ 0.94307612],\n",
       "        [ 0.96015329]]])"
      ]
     },
     "execution_count": 10,
     "metadata": {},
     "output_type": "execute_result"
    }
   ],
   "source": [
    "X_test[:5]"
   ]
  },
  {
   "cell_type": "markdown",
   "metadata": {},
   "source": [
    "## Building the RNN\n",
    "* units = sufficient number of LSTM memory cells (neutrons) to learn the stock prices\n",
    "* return_sequences = True (to prepare stacking in subsequent LSTM layers, default is set as false) \n",
    "* input_shape = timesteps and predictor (batch_size is not required)\n",
    "* drop 20% of the neutrons in each layer to avoid overfitting (i.e., 10 neutrons will be dropped out during each training)"
   ]
  },
  {
   "cell_type": "code",
   "execution_count": 11,
   "metadata": {},
   "outputs": [
    {
     "name": "stderr",
     "output_type": "stream",
     "text": [
      "Using TensorFlow backend.\n"
     ]
    }
   ],
   "source": [
    "# Importing the Keras libraries and packages\n",
    "from keras.models import Sequential\n",
    "from keras.layers import Dense\n",
    "from keras.layers import LSTM\n",
    "from keras.layers import Dropout\n",
    "\n",
    "# Initialising the RNN\n",
    "regressor = Sequential()\n",
    "\n",
    "# Adding the first LSTM layer and some Dropout regularisation\n",
    "regressor.add(LSTM(units = 50, return_sequences = True, input_shape = (X_train.shape[1], 1)))\n",
    "regressor.add(Dropout(0.2)) \n",
    "\n",
    "# Adding a second LSTM layer and some Dropout regularisation\n",
    "regressor.add(LSTM(units = 50, return_sequences = True))\n",
    "regressor.add(Dropout(0.2))\n",
    "\n",
    "# Adding a third LSTM layer and some Dropout regularisation\n",
    "regressor.add(LSTM(units = 50, return_sequences = True))\n",
    "regressor.add(Dropout(0.2))\n",
    "\n",
    "# Adding a fourth LSTM layer and some Dropout regularisation\n",
    "regressor.add(LSTM(units = 50))\n",
    "regressor.add(Dropout(0.2))\n",
    "\n",
    "# Adding the output layer\n",
    "regressor.add(Dense(units = 1))"
   ]
  },
  {
   "cell_type": "markdown",
   "metadata": {},
   "source": [
    "## Compiling the RNN\n",
    "* Keras documentation recommends using RMSprop for RNN, having experimented it, adam gave better results so far"
   ]
  },
  {
   "cell_type": "code",
   "execution_count": 12,
   "metadata": {
    "collapsed": true
   },
   "outputs": [],
   "source": [
    "regressor.compile(optimizer = 'adam', loss = 'mean_squared_error')"
   ]
  },
  {
   "cell_type": "markdown",
   "metadata": {},
   "source": [
    "## Fitting the RNN to the Training set\n",
    "* Initialise callbacks: History, EarlyStopping if necessary "
   ]
  },
  {
   "cell_type": "code",
   "execution_count": 13,
   "metadata": {
    "scrolled": true
   },
   "outputs": [
    {
     "name": "stdout",
     "output_type": "stream",
     "text": [
      "Train on 838 samples, validate on 360 samples\n",
      "Epoch 1/100\n",
      "838/838 [==============================] - 17s 20ms/step - loss: 0.0309 - val_loss: 0.0418\n",
      "Epoch 2/100\n",
      "838/838 [==============================] - 16s 19ms/step - loss: 0.0058 - val_loss: 0.0037\n",
      "Epoch 3/100\n",
      "838/838 [==============================] - 16s 19ms/step - loss: 0.0037 - val_loss: 0.0109\n",
      "Epoch 4/100\n",
      "838/838 [==============================] - 15s 18ms/step - loss: 0.0029 - val_loss: 0.0054\n",
      "Epoch 5/100\n",
      "838/838 [==============================] - 15s 18ms/step - loss: 0.0031 - val_loss: 0.0123\n",
      "Epoch 6/100\n",
      "838/838 [==============================] - 15s 18ms/step - loss: 0.0033 - val_loss: 0.0169\n",
      "Epoch 7/100\n",
      "838/838 [==============================] - 15s 18ms/step - loss: 0.0033 - val_loss: 0.0071\n",
      "Epoch 8/100\n",
      "838/838 [==============================] - 15s 18ms/step - loss: 0.0030 - val_loss: 0.0131\n",
      "Epoch 9/100\n",
      "838/838 [==============================] - 16s 18ms/step - loss: 0.0030 - val_loss: 0.0065\n",
      "Epoch 10/100\n",
      "838/838 [==============================] - 15s 18ms/step - loss: 0.0030 - val_loss: 0.0255\n",
      "Epoch 11/100\n",
      "838/838 [==============================] - 15s 18ms/step - loss: 0.0031 - val_loss: 0.0152\n",
      "Epoch 12/100\n",
      "838/838 [==============================] - 15s 18ms/step - loss: 0.0029 - val_loss: 0.0068\n",
      "Epoch 13/100\n",
      "838/838 [==============================] - 15s 18ms/step - loss: 0.0027 - val_loss: 0.0201\n",
      "Epoch 14/100\n",
      "838/838 [==============================] - 15s 18ms/step - loss: 0.0024 - val_loss: 0.0071\n",
      "Epoch 15/100\n",
      "838/838 [==============================] - 15s 18ms/step - loss: 0.0024 - val_loss: 0.0080\n",
      "Epoch 16/100\n",
      "838/838 [==============================] - 15s 18ms/step - loss: 0.0021 - val_loss: 0.0110\n",
      "Epoch 17/100\n",
      "838/838 [==============================] - 15s 18ms/step - loss: 0.0023 - val_loss: 0.0075\n",
      "Epoch 18/100\n",
      "838/838 [==============================] - 15s 18ms/step - loss: 0.0022 - val_loss: 0.0065\n",
      "Epoch 19/100\n",
      "838/838 [==============================] - 15s 18ms/step - loss: 0.0021 - val_loss: 0.0042\n",
      "Epoch 20/100\n",
      "838/838 [==============================] - 15s 18ms/step - loss: 0.0023 - val_loss: 0.0082\n",
      "Epoch 21/100\n",
      "838/838 [==============================] - 15s 18ms/step - loss: 0.0023 - val_loss: 0.0063\n",
      "Epoch 22/100\n",
      "838/838 [==============================] - 15s 18ms/step - loss: 0.0022 - val_loss: 0.0086\n",
      "Epoch 23/100\n",
      "838/838 [==============================] - 15s 18ms/step - loss: 0.0021 - val_loss: 0.0069\n",
      "Epoch 24/100\n",
      "838/838 [==============================] - 15s 18ms/step - loss: 0.0020 - val_loss: 0.0060\n",
      "Epoch 25/100\n",
      "838/838 [==============================] - 15s 18ms/step - loss: 0.0021 - val_loss: 0.0056\n",
      "Epoch 26/100\n",
      "838/838 [==============================] - 15s 18ms/step - loss: 0.0019 - val_loss: 0.0028\n",
      "Epoch 27/100\n",
      "838/838 [==============================] - 15s 18ms/step - loss: 0.0022 - val_loss: 0.0102\n",
      "Epoch 28/100\n",
      "838/838 [==============================] - 15s 18ms/step - loss: 0.0018 - val_loss: 0.0173\n",
      "Epoch 29/100\n",
      "838/838 [==============================] - 16s 19ms/step - loss: 0.0021 - val_loss: 0.0027\n",
      "Epoch 30/100\n",
      "838/838 [==============================] - 15s 18ms/step - loss: 0.0019 - val_loss: 0.0065\n",
      "Epoch 31/100\n",
      "838/838 [==============================] - 16s 19ms/step - loss: 0.0018 - val_loss: 0.0099\n",
      "Epoch 32/100\n",
      "838/838 [==============================] - 17s 20ms/step - loss: 0.0018 - val_loss: 0.0109\n",
      "Epoch 33/100\n",
      "838/838 [==============================] - 16s 19ms/step - loss: 0.0021 - val_loss: 0.0119\n",
      "Epoch 34/100\n",
      "838/838 [==============================] - 15s 18ms/step - loss: 0.0020 - val_loss: 0.0027\n",
      "Epoch 35/100\n",
      "838/838 [==============================] - 15s 18ms/step - loss: 0.0017 - val_loss: 0.0162\n",
      "Epoch 36/100\n",
      "838/838 [==============================] - 15s 18ms/step - loss: 0.0022 - val_loss: 0.0024\n",
      "Epoch 37/100\n",
      "838/838 [==============================] - 15s 18ms/step - loss: 0.0023 - val_loss: 0.0108\n",
      "Epoch 38/100\n",
      "838/838 [==============================] - 15s 18ms/step - loss: 0.0016 - val_loss: 0.0078\n",
      "Epoch 39/100\n",
      "838/838 [==============================] - 15s 18ms/step - loss: 0.0017 - val_loss: 0.0054\n",
      "Epoch 40/100\n",
      "838/838 [==============================] - 15s 18ms/step - loss: 0.0018 - val_loss: 0.0099\n",
      "Epoch 41/100\n",
      "838/838 [==============================] - 17s 21ms/step - loss: 0.0017 - val_loss: 0.0031\n",
      "Epoch 42/100\n",
      "838/838 [==============================] - 15s 18ms/step - loss: 0.0014 - val_loss: 0.0044\n",
      "Epoch 43/100\n",
      "838/838 [==============================] - 16s 19ms/step - loss: 0.0016 - val_loss: 0.0116\n",
      "Epoch 44/100\n",
      "838/838 [==============================] - 16s 19ms/step - loss: 0.0016 - val_loss: 0.0045\n",
      "Epoch 45/100\n",
      "838/838 [==============================] - 13s 16ms/step - loss: 0.0016 - val_loss: 0.0026\n",
      "Epoch 46/100\n",
      "838/838 [==============================] - 13s 16ms/step - loss: 0.0016 - val_loss: 0.0067\n",
      "Epoch 47/100\n",
      "838/838 [==============================] - 13s 16ms/step - loss: 0.0015 - val_loss: 0.0051\n",
      "Epoch 48/100\n",
      "838/838 [==============================] - 13s 16ms/step - loss: 0.0015 - val_loss: 0.0016\n",
      "Epoch 49/100\n",
      "838/838 [==============================] - 13s 16ms/step - loss: 0.0014 - val_loss: 0.0040\n",
      "Epoch 50/100\n",
      "838/838 [==============================] - 13s 16ms/step - loss: 0.0013 - val_loss: 0.0049\n",
      "Epoch 51/100\n",
      "838/838 [==============================] - 13s 16ms/step - loss: 0.0013 - val_loss: 0.0041\n",
      "Epoch 52/100\n",
      "838/838 [==============================] - 13s 16ms/step - loss: 0.0014 - val_loss: 0.0117\n",
      "Epoch 53/100\n",
      "838/838 [==============================] - 13s 16ms/step - loss: 0.0014 - val_loss: 0.0034\n",
      "Epoch 54/100\n",
      "838/838 [==============================] - 13s 16ms/step - loss: 0.0016 - val_loss: 0.0113\n",
      "Epoch 55/100\n",
      "838/838 [==============================] - 13s 16ms/step - loss: 0.0015 - val_loss: 0.0050\n",
      "Epoch 56/100\n",
      "838/838 [==============================] - 13s 16ms/step - loss: 0.0013 - val_loss: 0.0096\n",
      "Epoch 57/100\n",
      "838/838 [==============================] - 14s 16ms/step - loss: 0.0013 - val_loss: 0.0064\n",
      "Epoch 58/100\n",
      "838/838 [==============================] - 14s 17ms/step - loss: 0.0013 - val_loss: 0.0067\n",
      "Epoch 59/100\n",
      "838/838 [==============================] - 14s 17ms/step - loss: 0.0013 - val_loss: 0.0074\n",
      "Epoch 60/100\n",
      "838/838 [==============================] - 17s 20ms/step - loss: 0.0013 - val_loss: 0.0073\n",
      "Epoch 61/100\n",
      "838/838 [==============================] - 17s 20ms/step - loss: 0.0011 - val_loss: 0.0045\n",
      "Epoch 62/100\n",
      "838/838 [==============================] - 14s 16ms/step - loss: 0.0012 - val_loss: 0.0062\n",
      "Epoch 63/100\n",
      "838/838 [==============================] - 14s 16ms/step - loss: 0.0013 - val_loss: 0.0036\n",
      "Epoch 64/100\n",
      "838/838 [==============================] - 14s 16ms/step - loss: 0.0012 - val_loss: 0.0030\n",
      "Epoch 65/100\n",
      "838/838 [==============================] - 14s 17ms/step - loss: 0.0012 - val_loss: 0.0078\n",
      "Epoch 66/100\n",
      "838/838 [==============================] - 14s 17ms/step - loss: 0.0012 - val_loss: 0.0063\n",
      "Epoch 67/100\n",
      "838/838 [==============================] - 14s 16ms/step - loss: 0.0012 - val_loss: 0.0053\n",
      "Epoch 68/100\n",
      "838/838 [==============================] - 14s 17ms/step - loss: 0.0011 - val_loss: 0.0050\n",
      "Epoch 69/100\n",
      "838/838 [==============================] - 14s 17ms/step - loss: 0.0013 - val_loss: 0.0105\n",
      "Epoch 70/100\n",
      "838/838 [==============================] - 14s 16ms/step - loss: 0.0012 - val_loss: 0.0033\n",
      "Epoch 71/100\n",
      "838/838 [==============================] - 14s 16ms/step - loss: 9.5224e-04 - val_loss: 0.0051\n",
      "Epoch 72/100\n",
      "838/838 [==============================] - 14s 16ms/step - loss: 0.0011 - val_loss: 0.0074\n",
      "Epoch 73/100\n",
      "838/838 [==============================] - 14s 17ms/step - loss: 0.0011 - val_loss: 0.0031\n",
      "Epoch 74/100\n",
      "838/838 [==============================] - 14s 17ms/step - loss: 0.0011 - val_loss: 0.0043\n",
      "Epoch 75/100\n",
      "838/838 [==============================] - 14s 17ms/step - loss: 0.0010 - val_loss: 0.0089\n",
      "Epoch 76/100\n",
      "838/838 [==============================] - 14s 16ms/step - loss: 0.0012 - val_loss: 0.0018\n",
      "Epoch 77/100\n",
      "838/838 [==============================] - 13s 16ms/step - loss: 9.7368e-04 - val_loss: 0.0060\n",
      "Epoch 78/100\n",
      "838/838 [==============================] - 13s 16ms/step - loss: 0.0011 - val_loss: 9.2400e-04\n",
      "Epoch 79/100\n"
     ]
    },
    {
     "name": "stdout",
     "output_type": "stream",
     "text": [
      "838/838 [==============================] - 13s 16ms/step - loss: 0.0011 - val_loss: 0.0068\n",
      "Epoch 80/100\n",
      "838/838 [==============================] - 13s 16ms/step - loss: 0.0011 - val_loss: 0.0040\n",
      "Epoch 81/100\n",
      "838/838 [==============================] - 13s 16ms/step - loss: 9.8246e-04 - val_loss: 0.0030\n",
      "Epoch 82/100\n",
      "838/838 [==============================] - 13s 16ms/step - loss: 8.6004e-04 - val_loss: 0.0045\n",
      "Epoch 83/100\n",
      "838/838 [==============================] - 13s 16ms/step - loss: 0.0011 - val_loss: 0.0025\n",
      "Epoch 84/100\n",
      "838/838 [==============================] - 13s 16ms/step - loss: 9.5312e-04 - val_loss: 0.0022\n",
      "Epoch 85/100\n",
      "838/838 [==============================] - 13s 16ms/step - loss: 9.9809e-04 - val_loss: 0.0011\n",
      "Epoch 86/100\n",
      "838/838 [==============================] - 13s 16ms/step - loss: 8.5233e-04 - val_loss: 0.0027\n",
      "Epoch 87/100\n",
      "838/838 [==============================] - 14s 17ms/step - loss: 9.1610e-04 - val_loss: 0.0016\n",
      "Epoch 88/100\n",
      "838/838 [==============================] - 13s 16ms/step - loss: 0.0010 - val_loss: 0.0021\n",
      "Epoch 89/100\n",
      "838/838 [==============================] - 14s 16ms/step - loss: 9.6646e-04 - val_loss: 0.0048\n",
      "Epoch 90/100\n",
      "838/838 [==============================] - 14s 16ms/step - loss: 8.9890e-04 - val_loss: 0.0031\n",
      "Epoch 91/100\n",
      "838/838 [==============================] - 14s 17ms/step - loss: 9.5266e-04 - val_loss: 0.0025\n",
      "Epoch 92/100\n",
      "838/838 [==============================] - 14s 16ms/step - loss: 9.1339e-04 - val_loss: 0.0031\n",
      "Epoch 93/100\n",
      "838/838 [==============================] - 14s 17ms/step - loss: 9.4434e-04 - val_loss: 0.0032\n",
      "Epoch 94/100\n",
      "838/838 [==============================] - 14s 17ms/step - loss: 8.3352e-04 - val_loss: 0.0032\n",
      "Epoch 95/100\n",
      "838/838 [==============================] - 14s 16ms/step - loss: 8.4745e-04 - val_loss: 0.0023\n",
      "Epoch 96/100\n",
      "838/838 [==============================] - 15s 18ms/step - loss: 8.1368e-04 - val_loss: 0.0025\n",
      "Epoch 97/100\n",
      "838/838 [==============================] - 14s 16ms/step - loss: 9.3638e-04 - val_loss: 0.0086\n",
      "Epoch 98/100\n",
      "838/838 [==============================] - 14s 16ms/step - loss: 8.8578e-04 - val_loss: 0.0010\n",
      "Epoch 99/100\n",
      "838/838 [==============================] - 14s 16ms/step - loss: 9.4419e-04 - val_loss: 0.0075\n",
      "Epoch 100/100\n",
      "838/838 [==============================] - 13s 16ms/step - loss: 9.0617e-04 - val_loss: 0.0040\n"
     ]
    },
    {
     "data": {
      "text/plain": [
       "<keras.callbacks.History at 0x1a28dce898>"
      ]
     },
     "execution_count": 13,
     "metadata": {},
     "output_type": "execute_result"
    }
   ],
   "source": [
    "from keras.callbacks import History #, EarlyStopping\n",
    "histories = History()\n",
    "regressor.fit(X_train, y_train, validation_split = 0.3, epochs = 100, batch_size = 32, callbacks = [histories])"
   ]
  },
  {
   "cell_type": "markdown",
   "metadata": {},
   "source": [
    "## Visualising history for loss \n",
    "* The loss decreases as the training process go on, except for some fluctation introduced by the batch gradient descent and/or regularization (dropout) which introduced random noise. "
   ]
  },
  {
   "cell_type": "code",
   "execution_count": 14,
   "metadata": {
    "scrolled": true
   },
   "outputs": [
    {
     "data": {
      "image/png": "[encoded data removed]",
      "text/plain": [
       "<matplotlib.figure.Figure at 0x1a2a5126d8>"
      ]
     },
     "metadata": {},
     "output_type": "display_data"
    }
   ],
   "source": [
    "plt.plot(histories.history['loss'])\n",
    "plt.plot(histories.history['val_loss'])\n",
    "plt.title('model loss')\n",
    "plt.ylabel('loss')\n",
    "plt.xlabel('epoch')\n",
    "plt.legend(['train', 'test(validation)'], loc='upper right')\n",
    "plt.tight_layout()\n",
    "plt.savefig('google_loss_timesteps_{}.png'.format(timesteps))\n",
    "plt.show()"
   ]
  },
  {
   "cell_type": "markdown",
   "metadata": {},
   "source": [
    "## Making the predictions "
   ]
  },
  {
   "cell_type": "code",
   "execution_count": 15,
   "metadata": {
    "collapsed": true,
    "scrolled": false
   },
   "outputs": [],
   "source": [
    "predicted_stock_price = regressor.predict(X_test)\n",
    "predicted_stock_price = sc.inverse_transform(predicted_stock_price)"
   ]
  },
  {
   "cell_type": "markdown",
   "metadata": {},
   "source": [
    "## Visualising the results"
   ]
  },
  {
   "cell_type": "code",
   "execution_count": 16,
   "metadata": {
    "scrolled": false
   },
   "outputs": [
    {
     "data": {
      "image/png": "[encoded data removed]",
      "text/plain": [
       "<matplotlib.figure.Figure at 0x1a2a8ba0f0>"
      ]
     },
     "metadata": {},
     "output_type": "display_data"
    }
   ],
   "source": [
    "plt.plot(real_stock_price, color = 'red', label = 'Real Google LLC. Stock Price')\n",
    "plt.plot(predicted_stock_price, color = 'blue', label = 'Predicted Google LLC. Price')\n",
    "plt.title('Google LLC.. Stock Price Prediction')\n",
    "plt.xlabel('Time')\n",
    "plt.ylabel('Google LLC. Stock Price')\n",
    "plt.legend()\n",
    "plt.tight_layout()\n",
    "plt.savefig('google_timesteps_{}.png'.format(timesteps))\n",
    "plt.show()"
   ]
  },
  {
   "cell_type": "markdown",
   "metadata": {},
   "source": [
    "## Model performance and Parameters Tuning\n",
    "The following strategy will be used to improve the models: \n",
    "* Increase timesteps \n",
    "* Add more LSTM layers\n",
    "* Increase number of neurons in each LSTM layer \n",
    "* Add stock prices of correlated companies with Apple Inc. as a new indicator in the training set"
   ]
  },
  {
   "cell_type": "code",
   "execution_count": 17,
   "metadata": {},
   "outputs": [
    {
     "data": {
      "text/plain": [
       "49.610617676957794"
      ]
     },
     "execution_count": 17,
     "metadata": {},
     "output_type": "execute_result"
    }
   ],
   "source": [
    "import math\n",
    "from sklearn.metrics import mean_squared_error\n",
    "rmse = math.sqrt(mean_squared_error(real_stock_price, predicted_stock_price))\n",
    "rmse"
   ]
  }
 ],
 "metadata": {
  "kernelspec": {
   "display_name": "Python 3",
   "language": "python",
   "name": "python3"
  },
  "language_info": {
   "codemirror_mode": {
    "name": "ipython",
    "version": 3
   },
   "file_extension": ".py",
   "mimetype": "text/x-python",
   "name": "python",
   "nbconvert_exporter": "python",
   "pygments_lexer": "ipython3",
   "version": "3.5.4"
  }
 },
 "nbformat": 4,
 "nbformat_minor": 2
}
